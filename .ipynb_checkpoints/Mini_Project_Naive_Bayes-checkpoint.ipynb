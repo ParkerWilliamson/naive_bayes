{
 "cells": [
  {
   "cell_type": "markdown",
   "metadata": {},
   "source": [
    "# Basic Text Classification with Naive Bayes\n",
    "***\n",
    "In the mini-project, you'll learn the basics of text analysis using a subset of movie reviews from the rotten tomatoes database. You'll also use a fundamental technique in Bayesian inference, called Naive Bayes. This mini-project is based on [Lab 10 of Harvard's CS109](https://github.com/cs109/2015lab10) class.  Please free to go to the original lab for additional exercises and solutions."
   ]
  },
  {
   "cell_type": "code",
   "execution_count": 1,
   "metadata": {
    "collapsed": false
   },
   "outputs": [],
   "source": [
    "%matplotlib inline\n",
    "import numpy as np\n",
    "import scipy as sp\n",
    "import matplotlib as mpl\n",
    "import matplotlib.cm as cm\n",
    "import matplotlib.pyplot as plt\n",
    "import pandas as pd\n",
    "import seaborn as sns\n",
    "from six.moves import range\n",
    "\n",
    "# Setup Pandas\n",
    "pd.set_option('display.width', 500)\n",
    "pd.set_option('display.max_columns', 100)\n",
    "pd.set_option('display.notebook_repr_html', True)\n",
    "\n",
    "# Setup Seaborn\n",
    "sns.set_style(\"whitegrid\")\n",
    "sns.set_context(\"poster\")"
   ]
  },
  {
   "cell_type": "markdown",
   "metadata": {},
   "source": [
    "# Table of Contents\n",
    "\n",
    "* [Rotten Tomatoes Dataset](#Rotten-Tomatoes-Dataset)\n",
    "    * [Explore](#Explore)\n",
    "* [The Vector Space Model and a Search Engine](#The-Vector-Space-Model-and-a-Search-Engine)\n",
    "    * [In Code](#In-Code)\n",
    "* [Naive Bayes](#Naive-Bayes)\n",
    "    * [Multinomial Naive Bayes and Other Likelihood Functions](#Multinomial-Naive-Bayes-and-Other-Likelihood-Functions)\n",
    "    * [Picking Hyperparameters for Naive Bayes and Text Maintenance](#Picking-Hyperparameters-for-Naive-Bayes-and-Text-Maintenance)\n",
    "* [Interpretation](#Interpretation)\n"
   ]
  },
  {
   "cell_type": "markdown",
   "metadata": {},
   "source": [
    "## Rotten Tomatoes Dataset"
   ]
  },
  {
   "cell_type": "code",
   "execution_count": 2,
   "metadata": {
    "collapsed": false
   },
   "outputs": [
    {
     "data": {
      "text/html": [
       "<div>\n",
       "<style>\n",
       "    .dataframe thead tr:only-child th {\n",
       "        text-align: right;\n",
       "    }\n",
       "\n",
       "    .dataframe thead th {\n",
       "        text-align: left;\n",
       "    }\n",
       "\n",
       "    .dataframe tbody tr th {\n",
       "        vertical-align: top;\n",
       "    }\n",
       "</style>\n",
       "<table border=\"1\" class=\"dataframe\">\n",
       "  <thead>\n",
       "    <tr style=\"text-align: right;\">\n",
       "      <th></th>\n",
       "      <th>critic</th>\n",
       "      <th>fresh</th>\n",
       "      <th>imdb</th>\n",
       "      <th>publication</th>\n",
       "      <th>quote</th>\n",
       "      <th>review_date</th>\n",
       "      <th>rtid</th>\n",
       "      <th>title</th>\n",
       "    </tr>\n",
       "  </thead>\n",
       "  <tbody>\n",
       "    <tr>\n",
       "      <th>1</th>\n",
       "      <td>Derek Adams</td>\n",
       "      <td>fresh</td>\n",
       "      <td>114709</td>\n",
       "      <td>Time Out</td>\n",
       "      <td>So ingenious in concept, design and execution ...</td>\n",
       "      <td>2009-10-04</td>\n",
       "      <td>9559</td>\n",
       "      <td>Toy story</td>\n",
       "    </tr>\n",
       "    <tr>\n",
       "      <th>2</th>\n",
       "      <td>Richard Corliss</td>\n",
       "      <td>fresh</td>\n",
       "      <td>114709</td>\n",
       "      <td>TIME Magazine</td>\n",
       "      <td>The year's most inventive comedy.</td>\n",
       "      <td>2008-08-31</td>\n",
       "      <td>9559</td>\n",
       "      <td>Toy story</td>\n",
       "    </tr>\n",
       "    <tr>\n",
       "      <th>3</th>\n",
       "      <td>David Ansen</td>\n",
       "      <td>fresh</td>\n",
       "      <td>114709</td>\n",
       "      <td>Newsweek</td>\n",
       "      <td>A winning animated feature that has something ...</td>\n",
       "      <td>2008-08-18</td>\n",
       "      <td>9559</td>\n",
       "      <td>Toy story</td>\n",
       "    </tr>\n",
       "    <tr>\n",
       "      <th>4</th>\n",
       "      <td>Leonard Klady</td>\n",
       "      <td>fresh</td>\n",
       "      <td>114709</td>\n",
       "      <td>Variety</td>\n",
       "      <td>The film sports a provocative and appealing st...</td>\n",
       "      <td>2008-06-09</td>\n",
       "      <td>9559</td>\n",
       "      <td>Toy story</td>\n",
       "    </tr>\n",
       "    <tr>\n",
       "      <th>5</th>\n",
       "      <td>Jonathan Rosenbaum</td>\n",
       "      <td>fresh</td>\n",
       "      <td>114709</td>\n",
       "      <td>Chicago Reader</td>\n",
       "      <td>An entertaining computer-generated, hyperreali...</td>\n",
       "      <td>2008-03-10</td>\n",
       "      <td>9559</td>\n",
       "      <td>Toy story</td>\n",
       "    </tr>\n",
       "  </tbody>\n",
       "</table>\n",
       "</div>"
      ],
      "text/plain": [
       "               critic  fresh    imdb     publication                                              quote review_date  rtid      title\n",
       "1         Derek Adams  fresh  114709        Time Out  So ingenious in concept, design and execution ...  2009-10-04  9559  Toy story\n",
       "2     Richard Corliss  fresh  114709   TIME Magazine                  The year's most inventive comedy.  2008-08-31  9559  Toy story\n",
       "3         David Ansen  fresh  114709        Newsweek  A winning animated feature that has something ...  2008-08-18  9559  Toy story\n",
       "4       Leonard Klady  fresh  114709         Variety  The film sports a provocative and appealing st...  2008-06-09  9559  Toy story\n",
       "5  Jonathan Rosenbaum  fresh  114709  Chicago Reader  An entertaining computer-generated, hyperreali...  2008-03-10  9559  Toy story"
      ]
     },
     "execution_count": 2,
     "metadata": {},
     "output_type": "execute_result"
    }
   ],
   "source": [
    "critics = pd.read_csv('./critics.csv')\n",
    "#let's drop rows with missing quotes\n",
    "critics = critics[~critics.quote.isnull()]\n",
    "critics.head()"
   ]
  },
  {
   "cell_type": "markdown",
   "metadata": {},
   "source": [
    "### Explore"
   ]
  },
  {
   "cell_type": "code",
   "execution_count": 3,
   "metadata": {
    "collapsed": false
   },
   "outputs": [
    {
     "name": "stdout",
     "output_type": "stream",
     "text": [
      "Number of reviews: 15561\n",
      "Number of critics: 623\n",
      "Number of movies:  1921\n"
     ]
    }
   ],
   "source": [
    "n_reviews = len(critics)\n",
    "n_movies = critics.rtid.unique().size\n",
    "n_critics = critics.critic.unique().size\n",
    "\n",
    "\n",
    "print(\"Number of reviews: {:d}\".format(n_reviews))\n",
    "print(\"Number of critics: {:d}\".format(n_critics))\n",
    "print(\"Number of movies:  {:d}\".format(n_movies))"
   ]
  },
  {
   "cell_type": "code",
   "execution_count": 4,
   "metadata": {
    "collapsed": false
   },
   "outputs": [
    {
     "data": {
      "image/png": "[encoded data removed]",
      "text/plain": [
       "<matplotlib.figure.Figure at 0x5b337f0>"
      ]
     },
     "metadata": {},
     "output_type": "display_data"
    }
   ],
   "source": [
    "df = critics.copy()\n",
    "df['fresh'] = df.fresh == 'fresh'\n",
    "grp = df.groupby('critic')\n",
    "counts = grp.critic.count()  # number of reviews by each critic\n",
    "means = grp.fresh.mean()     # average freshness for each critic\n",
    "\n",
    "means[counts > 100].hist(bins=10, edgecolor='w', lw=1)\n",
    "plt.xlabel(\"Average Rating per critic\")\n",
    "plt.ylabel(\"Number of Critics\")\n",
    "plt.yticks([0, 2, 4, 6, 8, 10]);"
   ]
  },
  {
   "cell_type": "markdown",
   "metadata": {},
   "source": [
    "<div class=\"span5 alert alert-info\">\n",
    "<h3>Exercise Set I</h3>\n",
    "<br/>\n",
    "<b>Exercise:</b> Look at the histogram above. Tell a story about the average ratings per critic. What shape does the distribution look like? What is interesting about the distribution? What might explain these interesting things?\n",
    "</div>"
   ]
  },
  {
   "cell_type": "markdown",
   "metadata": {},
   "source": [
    "## The Vector Space Model and a Search Engine"
   ]
  },
  {
   "cell_type": "markdown",
   "metadata": {},
   "source": [
    "All the diagrams here are snipped from [*Introduction to Information Retrieval* by Manning et. al.]( http://nlp.stanford.edu/IR-book/) which is a great resource on text processing. For additional information on text mining and natural language processing, see [*Foundations of Statistical Natural Language Processing* by Manning and Schutze](http://nlp.stanford.edu/fsnlp/).\n",
    "\n",
    "Also check out Python packages [`nltk`](http://www.nltk.org/), [`spaCy`](https://spacy.io/), [`pattern`](http://www.clips.ua.ac.be/pattern), and their associated resources. Also see [`word2vec`](https://en.wikipedia.org/wiki/Word2vec).\n",
    "\n",
    "Let us define the vector derived from document $d$ by $\\bar V(d)$. What does this mean? Each document is treated as a vector containing information about the words contained in it. Each vector has the same length and each entry \"slot\" in the vector contains some kind of data about the words that appear in the document such as presence/absence (1/0), count (an integer) or some other statistic. Each vector has the same length because each document shared the same vocabulary across the full collection of documents -- this collection is called a *corpus*.\n",
    "\n",
    "To define the vocabulary, we take a union of all words we have seen in all documents. We then just associate an array index with them. So \"hello\" may be at index 5 and \"world\" at index 99.\n",
    "\n",
    "Suppose we have the following corpus:\n",
    "\n",
    "`A Fox one day spied a beautiful bunch of ripe grapes hanging from a vine trained along the branches of a tree. The grapes seemed ready to burst with juice, and the Fox's mouth watered as he gazed longingly at them.`\n",
    "\n",
    "Suppose we treat each sentence as a document $d$. The vocabulary (often called the *lexicon*) is the following:\n",
    "\n",
    "$V = \\left\\{\\right.$ `a, along, and, as, at, beautiful, branches, bunch, burst, day, fox, fox's, from, gazed, grapes, hanging, he, juice, longingly, mouth, of, one, ready, ripe, seemed, spied, the, them, to, trained, tree, vine, watered, with`$\\left.\\right\\}$\n",
    "\n",
    "Then the document\n",
    "\n",
    "`A Fox one day spied a beautiful bunch of ripe grapes hanging from a vine trained along the branches of a tree`\n",
    "\n",
    "may be represented as the following sparse vector of word counts:\n",
    "\n",
    "$$\\bar V(d) = \\left( 4,1,0,0,0,1,1,1,0,1,1,0,1,0,1,1,0,0,0,0,2,1,0,1,0,0,1,0,0,0,1,1,0,0 \\right)$$\n",
    "\n",
    "or more succinctly as\n",
    "\n",
    "`[(0, 4), (1, 1), (5, 1), (6, 1), (7, 1), (9, 1), (10, 1), (12, 1), (14, 1), (15, 1), (20, 2), (21, 1), (23, 1),`\n",
    "`(26, 1), (30, 1), (31, 1)]`\n",
    "\n",
    "along with a dictionary\n",
    "\n",
    "``\n",
    "{\n",
    "    0: a, 1: along, 5: beautiful, 6: branches, 7: bunch, 9: day, 10: fox, 12: from, 14: grapes, \n",
    "    15: hanging, 19: mouth, 20: of, 21: one, 23: ripe, 24: seemed, 25: spied, 26: the, \n",
    "    30: tree, 31: vine, \n",
    "}\n",
    "``\n",
    "\n",
    "Then, a set of documents becomes, in the usual `sklearn` style, a sparse matrix with rows being sparse arrays representing documents and columns representing the features/words in the vocabulary.\n",
    "\n",
    "Notice that this representation loses the relative ordering of the terms in the document. That is \"cat ate rat\" and \"rat ate cat\" are the same. Thus, this representation is also known as the Bag-Of-Words representation.\n",
    "\n",
    "Here is another example, from the book quoted above, although the matrix is transposed here so that documents are columns:\n",
    "\n",
    "![novel terms](terms.png)\n",
    "\n",
    "Such a matrix is also catted a Term-Document Matrix. Here, the terms being indexed could be stemmed before indexing; for instance, `jealous` and `jealousy` after stemming are the same feature. One could also make use of other \"Natural Language Processing\" transformations in constructing the vocabulary. We could use Lemmatization, which reduces words to lemmas: work, working, worked would all reduce to work. We could remove \"stopwords\" from our vocabulary, such as common words like \"the\". We could look for particular parts of speech, such as adjectives. This is often done in Sentiment Analysis. And so on. It all depends on our application.\n",
    "\n",
    "From the book:\n",
    ">The standard way of quantifying the similarity between two documents $d_1$ and $d_2$  is to compute the cosine similarity of their vector representations $\\bar V(d_1)$ and $\\bar V(d_2)$:\n",
    "\n",
    "$$S_{12} = \\frac{\\bar V(d_1) \\cdot \\bar V(d_2)}{|\\bar V(d_1)| \\times |\\bar V(d_2)|}$$\n",
    "\n",
    "![Vector Space Model](vsm.png)\n",
    "\n",
    "\n",
    ">There is a far more compelling reason to represent documents as vectors: we can also view a query as a vector. Consider the query q = jealous gossip. This query turns into the unit vector $\\bar V(q)$ = (0, 0.707, 0.707) on the three coordinates below. \n",
    "\n",
    "![novel terms](terms2.png)\n",
    "\n",
    ">The key idea now: to assign to each document d a score equal to the dot product:\n",
    "\n",
    "$$\\bar V(q) \\cdot \\bar V(d)$$\n",
    "\n",
    "Then we can use this simple Vector Model as a Search engine."
   ]
  },
  {
   "cell_type": "markdown",
   "metadata": {},
   "source": [
    "### In Code"
   ]
  },
  {
   "cell_type": "code",
   "execution_count": 5,
   "metadata": {
    "collapsed": false
   },
   "outputs": [
    {
     "name": "stdout",
     "output_type": "stream",
     "text": [
      "Original text is\n",
      "Hop on pop\n",
      "Hop off pop\n",
      "Hop Hop hop\n",
      "\n",
      "Transformed text vector is \n",
      "[[1 0 1 1]\n",
      " [1 1 0 1]\n",
      " [3 0 0 0]]\n",
      "\n",
      "Words for each feature:\n",
      "['hop', 'off', 'on', 'pop']\n"
     ]
    }
   ],
   "source": [
    "from sklearn.feature_extraction.text import CountVectorizer\n",
    "\n",
    "text = ['Hop on pop', 'Hop off pop', 'Hop Hop hop']\n",
    "print(\"Original text is\\n{}\".format('\\n'.join(text)))\n",
    "\n",
    "vectorizer = CountVectorizer(min_df=0)\n",
    "\n",
    "# call `fit` to build the vocabulary\n",
    "vectorizer.fit(text)\n",
    "\n",
    "# call `transform` to convert text to a bag of words\n",
    "x = vectorizer.transform(text)\n",
    "\n",
    "# CountVectorizer uses a sparse array to save memory, but it's easier in this assignment to \n",
    "# convert back to a \"normal\" numpy array\n",
    "x = x.toarray()\n",
    "\n",
    "print(\"\")\n",
    "print(\"Transformed text vector is \\n{}\".format(x))\n",
    "\n",
    "# `get_feature_names` tracks which word is associated with each column of the transformed x\n",
    "print(\"\")\n",
    "print(\"Words for each feature:\")\n",
    "print(vectorizer.get_feature_names())\n",
    "\n",
    "# Notice that the bag of words treatment doesn't preserve information about the *order* of words, \n",
    "# just their frequency"
   ]
  },
  {
   "cell_type": "code",
   "execution_count": 6,
   "metadata": {
    "collapsed": false
   },
   "outputs": [],
   "source": [
    "def make_xy(critics, vectorizer=None):\n",
    "    #Your code here    \n",
    "    if vectorizer is None:\n",
    "        vectorizer = CountVectorizer()\n",
    "    X = vectorizer.fit_transform(critics.quote)\n",
    "    X = X.tocsc()  # some versions of sklearn return COO format\n",
    "    y = (critics.fresh == 'fresh').values.astype(np.int)\n",
    "    return X, y\n",
    "X, y = make_xy(critics)"
   ]
  },
  {
   "cell_type": "markdown",
   "metadata": {},
   "source": [
    "## Naive Bayes"
   ]
  },
  {
   "cell_type": "markdown",
   "metadata": {},
   "source": [
    "From Bayes' Theorem, we have that\n",
    "\n",
    "$$P(c \\vert f) = \\frac{P(c \\cap f)}{P(f)}$$\n",
    "\n",
    "where $c$ represents a *class* or category, and $f$ represents a feature vector, such as $\\bar V(d)$ as above. **We are computing the probability that a document (or whatever we are classifying) belongs to category *c* given the features in the document.** $P(f)$ is really just a normalization constant, so the literature usually writes Bayes' Theorem in context of Naive Bayes as\n",
    "\n",
    "$$P(c \\vert f) \\propto P(f \\vert c) P(c) $$\n",
    "\n",
    "$P(c)$ is called the *prior* and is simply the probability of seeing class $c$. But what is $P(f \\vert c)$? This is the probability that we see feature set $f$ given that this document is actually in class $c$. This is called the *likelihood* and comes from the data. One of the major assumptions of the Naive Bayes model is that the features are *conditionally independent* given the class. While the presence of a particular discriminative word may uniquely identify the document as being part of class $c$ and thus violate general feature independence, conditional independence means that the presence of that term is independent of all the other words that appear *within that class*. This is a very important distinction. Recall that if two events are independent, then:\n",
    "\n",
    "$$P(A \\cap B) = P(A) \\cdot P(B)$$\n",
    "\n",
    "Thus, conditional independence implies\n",
    "\n",
    "$$P(f \\vert c)  = \\prod_i P(f_i | c) $$\n",
    "\n",
    "where $f_i$ is an individual feature (a word in this example).\n",
    "\n",
    "To make a classification, we then choose the class $c$ such that $P(c \\vert f)$ is maximal.\n",
    "\n",
    "There is a small caveat when computing these probabilities. For [floating point underflow](http://nlp.stanford.edu/IR-book/html/htmledition/naive-bayes-text-classification-1.html) we change the product into a sum by going into log space. This is called the LogSumExp trick. So:\n",
    "\n",
    "$$\\log P(f \\vert c)  = \\sum_i \\log P(f_i \\vert c) $$\n",
    "\n",
    "There is another caveat. What if we see a term that didn't exist in the training data? This means that $P(f_i \\vert c) = 0$ for that term, and thus $P(f \\vert c)  = \\prod_i P(f_i | c) = 0$, which doesn't help us at all. Instead of using zeros, we add a small negligible value called $\\alpha$ to each count. This is called Laplace Smoothing.\n",
    "\n",
    "$$P(f_i \\vert c) = \\frac{N_{ic}+\\alpha}{N_c + \\alpha N_i}$$\n",
    "\n",
    "where $N_{ic}$ is the number of times feature $i$ was seen in class $c$, $N_c$ is the number of times class $c$ was seen and $N_i$ is the number of times feature $i$ was seen globally. $\\alpha$ is sometimes called a regularization parameter."
   ]
  },
  {
   "cell_type": "markdown",
   "metadata": {},
   "source": [
    "### Multinomial Naive Bayes and Other Likelihood Functions\n",
    "\n",
    "Since we are modeling word counts, we are using variation of Naive Bayes called Multinomial Naive Bayes. This is because the likelihood function actually takes the form of the multinomial distribution.\n",
    "\n",
    "$$P(f \\vert c) = \\frac{\\left( \\sum_i f_i \\right)!}{\\prod_i f_i!} \\prod_{f_i} P(f_i \\vert c)^{f_i} \\propto \\prod_{i} P(f_i \\vert c)$$\n",
    "\n",
    "where the nasty term out front is absorbed as a normalization constant such that probabilities sum to 1.\n",
    "\n",
    "There are many other variations of Naive Bayes, all which depend on what type of value $f_i$ takes. If $f_i$ is continuous, we may be able to use *Gaussian Naive Bayes*. First compute the mean and variance for each class $c$. Then the likelihood, $P(f \\vert c)$ is given as follows\n",
    "\n",
    "$$P(f_i = v \\vert c) = \\frac{1}{\\sqrt{2\\pi \\sigma^2_c}} e^{- \\frac{\\left( v - \\mu_c \\right)^2}{2 \\sigma^2_c}}$$"
   ]
  },
  {
   "cell_type": "markdown",
   "metadata": {},
   "source": [
    "<div class=\"span5 alert alert-info\">\n",
    "<h3>Exercise Set II</h3>\n",
    "\n",
    "<p><b>Exercise:</b> Implement a simple Naive Bayes classifier:</p>\n",
    "\n",
    "<ol>\n",
    "<li> split the data set into a training and test set\n",
    "<li> Use `scikit-learn`'s `MultinomialNB()` classifier with default parameters.\n",
    "<li> train the classifier over the training set and test on the test set\n",
    "<li> print the accuracy scores for both the training and the test sets\n",
    "</ol>\n",
    "\n",
    "What do you notice? Is this a good classifier? If not, why not?\n",
    "</div>"
   ]
  },
  {
   "cell_type": "code",
   "execution_count": 7,
   "metadata": {
    "collapsed": false
   },
   "outputs": [
    {
     "name": "stdout",
     "output_type": "stream",
     "text": [
      "(15561, 22417)\n",
      "(15561,)\n",
      "Score Training:  0.92030848329\n",
      "Score Testing:  0.772756478903\n"
     ]
    }
   ],
   "source": [
    "#your turn\n",
    "from sklearn.model_selection import train_test_split\n",
    "from sklearn.naive_bayes import MultinomialNB\n",
    "\n",
    "print(np.shape(X))\n",
    "print(np.shape(y))\n",
    "\n",
    "#print(X.todense())\n",
    "\n",
    "x_train, x_test, y_train, y_test = train_test_split(X, y, test_size=.3)\n",
    "multiNB = MultinomialNB()\n",
    "multiNB.fit(x_train, y_train)\n",
    "print('Score Training: ',multiNB.score(x_train,y_train))\n",
    "print('Score Testing: ',multiNB.score(x_test,y_test))"
   ]
  },
  {
   "cell_type": "markdown",
   "metadata": {},
   "source": [
    "The training score is quite good, but the test score isn't great. There was a large difference between the two. Since the test score is what matters the classifier isn't very good."
   ]
  },
  {
   "cell_type": "markdown",
   "metadata": {},
   "source": [
    "### Picking Hyperparameters for Naive Bayes and Text Maintenance"
   ]
  },
  {
   "cell_type": "markdown",
   "metadata": {},
   "source": [
    "We need to know what value to use for $\\alpha$, and we also need to know which words to include in the vocabulary. As mentioned earlier, some words are obvious stopwords. Other words appear so infrequently that they serve as noise, and other words in addition to stopwords appear so frequently that they may also serve as noise."
   ]
  },
  {
   "cell_type": "markdown",
   "metadata": {},
   "source": [
    "First, let's find an appropriate value for `min_df` for the `CountVectorizer`. `min_df` can be either an integer or a float/decimal. If it is an integer, `min_df` represents the minimum number of documents a word must appear in for it to be included in the vocabulary. If it is a float, it represents the minimum *percentage* of documents a word must appear in to be included in the vocabulary. From the documentation:"
   ]
  },
  {
   "cell_type": "markdown",
   "metadata": {},
   "source": [
    ">min_df: When building the vocabulary ignore terms that have a document frequency strictly lower than the given threshold. This value is also called cut-off in the literature. If float, the parameter represents a proportion of documents, integer absolute counts. This parameter is ignored if vocabulary is not None."
   ]
  },
  {
   "cell_type": "markdown",
   "metadata": {},
   "source": [
    "<div class=\"span5 alert alert-info\">\n",
    "<h3>Exercise Set III</h3>\n",
    "\n",
    "<p><b>Exercise:</b> Construct the cumulative distribution of document frequencies (df). The $x$-axis is a document count $x_i$ and the $y$-axis is the percentage of words that appear less than $x_i$ times. For example, at $x=5$, plot a point representing the percentage or number of words that appear in 5 or fewer documents.</p>\n",
    "\n",
    "<p><b>Exercise:</b> Look for the point at which the curve begins climbing steeply. This may be a good value for `min_df`. If we were interested in also picking `max_df`, we would likely pick the value where the curve starts to plateau. What value did you choose?</p>\n",
    "</div>"
   ]
  },
  {
   "cell_type": "code",
   "execution_count": 8,
   "metadata": {},
   "outputs": [
    {
     "name": "stdout",
     "output_type": "stream",
     "text": [
      "1    So ingenious in concept, design and execution ...\n",
      "2                    The year's most inventive comedy.\n",
      "3    A winning animated feature that has something ...\n",
      "4    The film sports a provocative and appealing st...\n",
      "5    An entertaining computer-generated, hyperreali...\n",
      "Name: quote, dtype: object\n"
     ]
    }
   ],
   "source": [
    "# Your turn.\n",
    "print(df.quote.head())"
   ]
  },
  {
   "cell_type": "code",
   "execution_count": 9,
   "metadata": {},
   "outputs": [
    {
     "name": "stdout",
     "output_type": "stream",
     "text": [
      "\n",
      "Transformed text vector is \n",
      "[[0 0 0 ..., 0 0 0]\n",
      " [0 0 0 ..., 0 0 0]\n",
      " [0 0 0 ..., 0 0 0]\n",
      " ..., \n",
      " [0 0 0 ..., 0 0 0]\n",
      " [0 0 0 ..., 0 0 0]\n",
      " [0 0 0 ..., 0 0 0]]\n"
     ]
    }
   ],
   "source": [
    "from sklearn.feature_extraction.text import CountVectorizer\n",
    "\n",
    "text = df.quote\n",
    "#print(\"Original text is\\n{}\".format('\\n'.join(text)))\n",
    "\n",
    "vectorizer = CountVectorizer(min_df=0)\n",
    "\n",
    "# call `fit` to build the vocabulary\n",
    "vectorizer.fit(text)\n",
    "\n",
    "# call `transform` to convert text to a bag of words\n",
    "x = vectorizer.transform(text)\n",
    "\n",
    "# CountVectorizer uses a sparse array to save memory, but it's easier in this assignment to \n",
    "# convert back to a \"normal\" numpy array\n",
    "x = x.toarray()\n",
    "\n",
    "print(\"\")\n",
    "print(\"Transformed text vector is \\n{}\".format(x))\n",
    "\n",
    "# `get_feature_names` tracks which word is associated with each column of the transformed x\n",
    "#print(\"\")\n",
    "#print(\"Words for each feature:\")\n",
    "#print(vectorizer.get_feature_names())\n",
    "\n",
    "# Notice that the bag of words treatment doesn't preserve information about the *order* of words, \n",
    "# just their frequency"
   ]
  },
  {
   "cell_type": "code",
   "execution_count": null,
   "metadata": {},
   "outputs": [],
   "source": [
    "summy = x.sum(axis=1)"
   ]
  },
  {
   "cell_type": "code",
   "execution_count": null,
   "metadata": {},
   "outputs": [],
   "source": [
    "print(summy)"
   ]
  },
  {
   "cell_type": "code",
   "execution_count": 13,
   "metadata": {},
   "outputs": [
    {
     "data": {
      "image/png": "[encoded data removed]",
      "text/plain": [
       "<matplotlib.figure.Figure at 0xc5f5e48>"
      ]
     },
     "metadata": {},
     "output_type": "display_data"
    }
   ],
   "source": [
    "plt.hist(summy,bins=20)\n",
    "plt.xlabel(\"Word Count\")\n",
    "plt.ylabel(\"Total words of count\")\n",
    "plt.show()"
   ]
  },
  {
   "cell_type": "code",
   "execution_count": 10,
   "metadata": {},
   "outputs": [
    {
     "ename": "NameError",
     "evalue": "name 'summy' is not defined",
     "output_type": "error",
     "traceback": [
      "\u001b[1;31m---------------------------------------------------------------------------\u001b[0m",
      "\u001b[1;31mNameError\u001b[0m                                 Traceback (most recent call last)",
      "\u001b[1;32m<ipython-input-10-4e063c0dbc2e>\u001b[0m in \u001b[0;36m<module>\u001b[1;34m()\u001b[0m\n\u001b[0;32m      1\u001b[0m \u001b[1;31m# evaluate the histogram\u001b[0m\u001b[1;33m\u001b[0m\u001b[1;33m\u001b[0m\u001b[0m\n\u001b[1;32m----> 2\u001b[1;33m \u001b[0mvalues\u001b[0m\u001b[1;33m,\u001b[0m \u001b[0mbase\u001b[0m \u001b[1;33m=\u001b[0m \u001b[0mnp\u001b[0m\u001b[1;33m.\u001b[0m\u001b[0mhistogram\u001b[0m\u001b[1;33m(\u001b[0m\u001b[0msummy\u001b[0m\u001b[1;33m,\u001b[0m \u001b[0mbins\u001b[0m\u001b[1;33m=\u001b[0m\u001b[1;36m40\u001b[0m\u001b[1;33m)\u001b[0m\u001b[1;33m\u001b[0m\u001b[0m\n\u001b[0m\u001b[0;32m      3\u001b[0m \u001b[1;31m#evaluate the cumulative\u001b[0m\u001b[1;33m\u001b[0m\u001b[1;33m\u001b[0m\u001b[0m\n\u001b[0;32m      4\u001b[0m \u001b[0mcumulative\u001b[0m \u001b[1;33m=\u001b[0m \u001b[0mnp\u001b[0m\u001b[1;33m.\u001b[0m\u001b[0mcumsum\u001b[0m\u001b[1;33m(\u001b[0m\u001b[0mvalues\u001b[0m\u001b[1;33m)\u001b[0m\u001b[1;33m\u001b[0m\u001b[0m\n\u001b[0;32m      5\u001b[0m \u001b[1;31m# plot the cumulative function\u001b[0m\u001b[1;33m\u001b[0m\u001b[1;33m\u001b[0m\u001b[0m\n",
      "\u001b[1;31mNameError\u001b[0m: name 'summy' is not defined"
     ]
    }
   ],
   "source": [
    "# evaluate the histogram\n",
    "values, base = np.histogram(summy, bins=40)\n",
    "#evaluate the cumulative\n",
    "cumulative = np.cumsum(values)\n",
    "# plot the cumulative function\n",
    "plt.plot(base[:-1], cumulative, c='blue')\n",
    "#plot the survival function\n",
    "plt.show()"
   ]
  },
  {
   "cell_type": "markdown",
   "metadata": {},
   "source": [
    "Look for the point at which the curve begins climbing steeply. This may be a good value for min_df. If we were interested in also picking max_df, we would likely pick the value where the curve starts to plateau. What value did you choose?\n",
    "\n",
    "min_df appears to be around 10 and max_df appears to be around 40."
   ]
  },
  {
   "cell_type": "markdown",
   "metadata": {},
   "source": [
    "The parameter $\\alpha$ is chosen to be a small value that simply avoids having zeros in the probability computations. This value can sometimes be chosen arbitrarily with domain expertise, but we will use K-fold cross validation. In K-fold cross-validation, we divide the data into $K$ non-overlapping parts. We train on $K-1$ of the folds and test on the remaining fold. We then iterate, so that each fold serves as the test fold exactly once. The function `cv_score` performs the K-fold cross-validation algorithm for us, but we need to pass a function that measures the performance of the algorithm on each fold. "
   ]
  },
  {
   "cell_type": "code",
   "execution_count": 11,
   "metadata": {
    "collapsed": false
   },
   "outputs": [],
   "source": [
    "from sklearn.model_selection import KFold\n",
    "def cv_score(clf, X, y, scorefunc):\n",
    "    result = 0.\n",
    "    nfold = 5\n",
    "    for train, test in KFold(nfold).split(X): # split data into train/test groups, 5 times\n",
    "        clf.fit(X[train], y[train]) # fit the classifier, passed is as clf.\n",
    "        result += scorefunc(clf, X[test], y[test]) # evaluate score function on held-out data\n",
    "    return result / nfold # average"
   ]
  },
  {
   "cell_type": "markdown",
   "metadata": {},
   "source": [
    "We use the log-likelihood as the score here in `scorefunc`. The higher the log-likelihood, the better. Indeed, what we do in `cv_score` above is to implement the cross-validation part of `GridSearchCV`.\n",
    "\n",
    "The custom scoring function `scorefunc` allows us to use different metrics depending on the decision risk we care about (precision, accuracy, profit etc.) directly on the validation set. You will often find people using `roc_auc`, precision, recall, or `F1-score` as the scoring function."
   ]
  },
  {
   "cell_type": "code",
   "execution_count": 12,
   "metadata": {
    "collapsed": false
   },
   "outputs": [],
   "source": [
    "def log_likelihood(clf, x, y):\n",
    "    prob = clf.predict_log_proba(x)\n",
    "    rotten = y == 0\n",
    "    fresh = ~rotten\n",
    "    return prob[rotten, 0].sum() + prob[fresh, 1].sum()"
   ]
  },
  {
   "cell_type": "markdown",
   "metadata": {},
   "source": [
    "We'll cross-validate over the regularization parameter $\\alpha$."
   ]
  },
  {
   "cell_type": "markdown",
   "metadata": {},
   "source": [
    "Let's set up the train and test masks first, and then we can run the cross-validation procedure."
   ]
  },
  {
   "cell_type": "code",
   "execution_count": 13,
   "metadata": {
    "collapsed": false
   },
   "outputs": [
    {
     "name": "stderr",
     "output_type": "stream",
     "text": [
      "C:\\ProgramData\\Anaconda3\\lib\\site-packages\\sklearn\\model_selection\\_split.py:2026: FutureWarning: From version 0.21, test_size will always complement train_size unless both are specified.\n",
      "  FutureWarning)\n"
     ]
    }
   ],
   "source": [
    "from sklearn.model_selection import train_test_split\n",
    "_, itest = train_test_split(range(critics.shape[0]), train_size=0.7)\n",
    "mask = np.zeros(critics.shape[0], dtype=np.bool)\n",
    "mask[itest] = True"
   ]
  },
  {
   "cell_type": "markdown",
   "metadata": {},
   "source": [
    "<div class=\"span5 alert alert-info\">\n",
    "<h3>Exercise Set IV</h3>\n",
    "\n",
    "<p><b>Exercise:</b> What does using the function `log_likelihood` as the score mean? What are we trying to optimize for?</p>\n",
    "\n",
    "<p><b>Exercise:</b> Without writing any code, what do you think would happen if you choose a value of $\\alpha$ that is too high?</p>\n",
    "\n",
    "<p><b>Exercise:</b> Using the skeleton code below, find the best values of the parameter `alpha`, and use the value of `min_df` you chose in the previous exercise set. Use the `cv_score` function above with the `log_likelihood` function for scoring.</p>\n",
    "</div>"
   ]
  },
  {
   "cell_type": "code",
   "execution_count": 14,
   "metadata": {
    "collapsed": false
   },
   "outputs": [],
   "source": [
    "from sklearn.naive_bayes import MultinomialNB\n",
    "\n",
    "#the grid of parameters to search over\n",
    "alphas = [.1, 1, 5, 10, 50]\n",
    "best_min_df = 10 # YOUR TURN: put your value of min_df here.\n",
    "\n",
    "#Find the best value for alpha and min_df, and the best classifier\n",
    "best_alpha = None\n",
    "maxscore=-np.inf\n",
    "for alpha in alphas:        \n",
    "    vectorizer = CountVectorizer(min_df=best_min_df)       \n",
    "    Xthis, ythis = make_xy(critics, vectorizer)\n",
    "    Xtrainthis = Xthis[mask]\n",
    "    ytrainthis = ythis[mask]\n",
    "    # your turn\n",
    "    classy = MultinomialNB(alpha=alpha)\n",
    "    classy.fit(Xtrainthis,ytrainthis)\n",
    "    temp_score = cv_score(classy,x_test, y_test, log_likelihood)\n",
    "    if(temp_score>maxscore):\n",
    "        best_alpha=alpha\n",
    "        maxscore=temp_score"
   ]
  },
  {
   "cell_type": "code",
   "execution_count": 15,
   "metadata": {
    "collapsed": false
   },
   "outputs": [
    {
     "name": "stdout",
     "output_type": "stream",
     "text": [
      "alpha: 1\n"
     ]
    }
   ],
   "source": [
    "print(\"alpha: {}\".format(best_alpha))"
   ]
  },
  {
   "cell_type": "markdown",
   "metadata": {},
   "source": [
    "The log_likelihood means the confidence of the predictions weights the scores of the classification.\n",
    "\n",
    "The alpha parameter is a smoothing parameter, so if it is too high it will over smooth a underfit the data missing edge points.\n",
    "\n",
    "The best alpha parameter is 1 for the df_min of 18."
   ]
  },
  {
   "cell_type": "markdown",
   "metadata": {},
   "source": [
    "<div class=\"span5 alert alert-info\">\n",
    "<h3>Exercise Set V: Working with the Best Parameters</h3>\n",
    "\n",
    "<p><b>Exercise:</b> Using the best value of  `alpha` you just found, calculate the accuracy on the training and test sets. Is this classifier better? Why (not)?</p>\n",
    "\n",
    "</div>"
   ]
  },
  {
   "cell_type": "code",
   "execution_count": 16,
   "metadata": {
    "collapsed": false
   },
   "outputs": [
    {
     "name": "stdout",
     "output_type": "stream",
     "text": [
      "Accuracy on training data: 0.869137\n",
      "Accuracy on test data:     0.730903\n"
     ]
    }
   ],
   "source": [
    "vectorizer = CountVectorizer(min_df=best_min_df)\n",
    "X, y = make_xy(critics, vectorizer)\n",
    "xtrain=X[mask]\n",
    "ytrain=y[mask]\n",
    "xtest=X[~mask]\n",
    "ytest=y[~mask]\n",
    "\n",
    "clf = MultinomialNB(alpha=best_alpha).fit(xtrain, ytrain)\n",
    "\n",
    "#your turn. Print the accuracy on the test and training dataset\n",
    "training_accuracy = clf.score(xtrain, ytrain)\n",
    "test_accuracy = clf.score(xtest, ytest)\n",
    "\n",
    "print(\"Accuracy on training data: {:2f}\".format(training_accuracy))\n",
    "print(\"Accuracy on test data:     {:2f}\".format(test_accuracy))"
   ]
  },
  {
   "cell_type": "markdown",
   "metadata": {},
   "source": [
    "It is not better than before on either the training or test datasets, the number of words it is missing on the low end of the counts must not make up for the increased accuracy of the greater words."
   ]
  },
  {
   "cell_type": "code",
   "execution_count": 17,
   "metadata": {
    "collapsed": false
   },
   "outputs": [
    {
     "name": "stdout",
     "output_type": "stream",
     "text": [
      "[[2687 1592]\n",
      " [1339 5274]]\n"
     ]
    }
   ],
   "source": [
    "from sklearn.metrics import confusion_matrix\n",
    "print(confusion_matrix(ytest, clf.predict(xtest)))"
   ]
  },
  {
   "cell_type": "markdown",
   "metadata": {},
   "source": [
    "## Interpretation"
   ]
  },
  {
   "cell_type": "markdown",
   "metadata": {},
   "source": [
    "### What are the strongly predictive features?\n",
    "\n",
    "We use a neat trick to identify strongly predictive features (i.e. words). \n",
    "\n",
    "* first, create a data set such that each row has exactly one feature. This is represented by the identity matrix.\n",
    "* use the trained classifier to make predictions on this matrix\n",
    "* sort the rows by predicted probabilities, and pick the top and bottom $K$ rows"
   ]
  },
  {
   "cell_type": "code",
   "execution_count": 18,
   "metadata": {
    "collapsed": false
   },
   "outputs": [
    {
     "name": "stdout",
     "output_type": "stream",
     "text": [
      "Good words\t     P(fresh | word)\n",
      "         beautifully 0.96\n",
      "               witty 0.95\n",
      "              finest 0.95\n",
      "             delight 0.95\n",
      "         spectacular 0.94\n",
      "              moving 0.94\n",
      "                bold 0.94\n",
      "            stunning 0.94\n",
      "          delightful 0.93\n",
      "           provoking 0.93\n",
      "Bad words\t     P(fresh | word)\n",
      "             suffers 0.10\n",
      "               bland 0.10\n",
      "        unconvincing 0.10\n",
      "               banal 0.10\n",
      "            plotting 0.09\n",
      "       disappointing 0.09\n",
      "          equivalent 0.09\n",
      "             muddled 0.08\n",
      "                lame 0.08\n",
      "           pointless 0.04\n"
     ]
    }
   ],
   "source": [
    "words = np.array(vectorizer.get_feature_names())\n",
    "\n",
    "x = np.eye(xtest.shape[1])\n",
    "probs = clf.predict_log_proba(x)[:, 0]\n",
    "ind = np.argsort(probs)\n",
    "\n",
    "good_words = words[ind[:10]]\n",
    "bad_words = words[ind[-10:]]\n",
    "\n",
    "good_prob = probs[ind[:10]]\n",
    "bad_prob = probs[ind[-10:]]\n",
    "\n",
    "print(\"Good words\\t     P(fresh | word)\")\n",
    "for w, p in zip(good_words, good_prob):\n",
    "    print(\"{:>20}\".format(w), \"{:.2f}\".format(1 - np.exp(p)))\n",
    "    \n",
    "print(\"Bad words\\t     P(fresh | word)\")\n",
    "for w, p in zip(bad_words, bad_prob):\n",
    "    print(\"{:>20}\".format(w), \"{:.2f}\".format(1 - np.exp(p)))"
   ]
  },
  {
   "cell_type": "markdown",
   "metadata": {},
   "source": [
    "<div class=\"span5 alert alert-info\">\n",
    "<h3>Exercise Set VI</h3>\n",
    "\n",
    "<p><b>Exercise:</b> Why does this method work? What does the probability for each row in the identity matrix represent</p>\n",
    "\n",
    "</div>"
   ]
  },
  {
   "cell_type": "markdown",
   "metadata": {},
   "source": [
    "The above exercise is an example of *feature selection*. There are many other feature selection methods. A list of feature selection methods available in `sklearn` is [here](http://scikit-learn.org/stable/modules/classes.html#module-sklearn.feature_selection). The most common feature selection technique for text mining is the chi-squared $\\left( \\chi^2 \\right)$ [method](http://nlp.stanford.edu/IR-book/html/htmledition/feature-selectionchi2-feature-selection-1.html)."
   ]
  },
  {
   "cell_type": "markdown",
   "metadata": {},
   "source": [
    "### Prediction Errors\n",
    "\n",
    "We can see mis-predictions as well."
   ]
  },
  {
   "cell_type": "code",
   "execution_count": 19,
   "metadata": {
    "collapsed": false
   },
   "outputs": [
    {
     "name": "stdout",
     "output_type": "stream",
     "text": [
      "Mis-predicted Rotten quotes\n",
      "---------------------------\n",
      "It survives today only as an unusually pure example of a typical 50s art-film strategy: the attempt to make the most modern and most popular of art forms acceptable to the intelligentsia by forcing it into an arcane, antique mold.\n",
      "\n",
      "Entrapment simply reminds us again how far Hollywood is from the true legacies of its greatest genre directors.\n",
      "\n",
      "Pale Rider does nothing to disprove the wisdom that this genre is best left to the revival houses. A double feature of Shane and Eastwood's High Plains Drifter will do just fine, thanks.\n",
      "\n",
      "Walken is one of the few undeniably charismatic male villains of recent years; he can generate a snakelike charm that makes his worst characters the most memorable, and here he operates on pure style.\n",
      "\n",
      "Yes, there is a shot of Mel Gibson's bum, and, no, director-producer Richard Donner still hasn't learned the first thing about directing action so that it has any coherence or beauty.\n",
      "\n",
      "Mis-predicted Fresh quotes\n",
      "--------------------------\n",
      "There's too much talent and too strong a story to mess it up. There was potential for more here, but this incarnation is nothing to be ashamed of, and some of the actors answer the bell.\n",
      "\n",
      "Consider this the big-screen equivalent of a beach read: Just turn off your brain and wallow in whatever turn-ons -- Whoopi and whoopee -- Stella offers.\n",
      "\n",
      "Twohy serves up a hard-to-swallow second-act twist and an unconvincing back story, but the slightly overlong A Perfect Getaway recovers with a pulse-pounding climax.\n",
      "\n",
      "Next Friday is an extremely funny movie, and this is coming from someone who barely cracked a smile during Friday, the first installment of this franchise.\n",
      "\n",
      "Might it be a serious attempt to right some unretrievable wrong via gallows humor which avoids the polemics? This seems to be the course taken; the attempt at least can be respected in theory.\n",
      "\n"
     ]
    }
   ],
   "source": [
    "x, y = make_xy(critics, vectorizer)\n",
    "\n",
    "prob = clf.predict_proba(x)[:, 0]\n",
    "predict = clf.predict(x)\n",
    "\n",
    "bad_rotten = np.argsort(prob[y == 0])[:5]\n",
    "bad_fresh = np.argsort(prob[y == 1])[-5:]\n",
    "\n",
    "print(\"Mis-predicted Rotten quotes\")\n",
    "print('---------------------------')\n",
    "for row in bad_rotten:\n",
    "    print(critics[y == 0].quote.iloc[row])\n",
    "    print(\"\")\n",
    "\n",
    "print(\"Mis-predicted Fresh quotes\")\n",
    "print('--------------------------')\n",
    "for row in bad_fresh:\n",
    "    print(critics[y == 1].quote.iloc[row])\n",
    "    print(\"\")"
   ]
  },
  {
   "cell_type": "markdown",
   "metadata": {},
   "source": [
    "<div class=\"span5 alert alert-info\">\n",
    "<h3>Exercise Set VII: Predicting the Freshness for a New Review</h3>\n",
    "<br/>\n",
    "<div>\n",
    "<b>Exercise:</b>\n",
    "<ul>\n",
    "<li> Using your best trained classifier, predict the freshness of the following sentence: *'This movie is not remarkable, touching, or superb in any way'*\n",
    "<li> Is the result what you'd expect? Why (not)?\n",
    "</ul>\n",
    "</div>\n",
    "</div>"
   ]
  },
  {
   "cell_type": "code",
   "execution_count": 20,
   "metadata": {
    "collapsed": false
   },
   "outputs": [
    {
     "name": "stdout",
     "output_type": "stream",
     "text": [
      "  (0, 153)\t1\n",
      "  (0, 1491)\t1\n",
      "  (0, 1561)\t1\n",
      "  (0, 1918)\t1\n",
      "  (0, 1998)\t1\n",
      "  (0, 2054)\t1\n",
      "  (0, 2377)\t1\n",
      "  (0, 2859)\t1\n",
      "  (0, 2978)\t1\n",
      "  (0, 3026)\t1\n",
      "  (0, 3218)\t1\n",
      "[1]\n"
     ]
    }
   ],
   "source": [
    "#your turn\n",
    "\n",
    "x_singlett = vectorizer.transform(['This movie is not remarkable, touching, or superb in any way'])\n",
    "print(x_singlett)\n",
    "print(clf.predict(x_singlett))"
   ]
  },
  {
   "cell_type": "markdown",
   "metadata": {},
   "source": [
    "It predicts a 1, which means possitive, the not doesn't override the positive sum of the rest of the words."
   ]
  },
  {
   "cell_type": "markdown",
   "metadata": {},
   "source": [
    "### Aside: TF-IDF Weighting for Term Importance\n",
    "\n",
    "TF-IDF stands for \n",
    "\n",
    "`Term-Frequency X Inverse Document Frequency`.\n",
    "\n",
    "In the standard `CountVectorizer` model above, we used just the term frequency in a document of words in our vocabulary. In TF-IDF, we weight this term frequency by the inverse of its popularity in all documents. For example, if the word \"movie\" showed up in all the documents, it would not have much predictive value. It could actually be considered a stopword. By weighing its counts by 1 divided by its overall frequency, we downweight it. We can then use this TF-IDF weighted features as inputs to any classifier. **TF-IDF is essentially a measure of term importance, and of how discriminative a word is in a corpus.** There are a variety of nuances involved in computing TF-IDF, mainly involving where to add the smoothing term to avoid division by 0, or log of 0 errors. The formula for TF-IDF in `scikit-learn` differs from that of most textbooks: \n",
    "\n",
    "$$\\mbox{TF-IDF}(t, d) = \\mbox{TF}(t, d)\\times \\mbox{IDF}(t) = n_{td} \\log{\\left( \\frac{\\vert D \\vert}{\\vert d : t \\in d \\vert} + 1 \\right)}$$\n",
    "\n",
    "where $n_{td}$ is the number of times term $t$ occurs in document $d$, $\\vert D \\vert$ is the number of documents, and $\\vert d : t \\in d \\vert$ is the number of documents that contain $t$"
   ]
  },
  {
   "cell_type": "code",
   "execution_count": 21,
   "metadata": {
    "collapsed": true
   },
   "outputs": [],
   "source": [
    "# http://scikit-learn.org/dev/modules/feature_extraction.html#text-feature-extraction\n",
    "# http://scikit-learn.org/dev/modules/classes.html#text-feature-extraction-ref\n",
    "from sklearn.feature_extraction.text import TfidfVectorizer\n",
    "tfidfvectorizer = TfidfVectorizer(min_df=1, stop_words='english')\n",
    "Xtfidf=tfidfvectorizer.fit_transform(critics.quote)"
   ]
  },
  {
   "cell_type": "markdown",
   "metadata": {},
   "source": [
    "<div class=\"span5 alert alert-info\">\n",
    "<h3>Exercise Set VIII: Enrichment</h3>\n",
    "\n",
    "<p>\n",
    "There are several additional things we could try. Try some of these as exercises:\n",
    "<ol>\n",
    "<li> Build a Naive Bayes model where the features are n-grams instead of words. N-grams are phrases containing n words next to each other: a bigram contains 2 words, a trigram contains 3 words, and 6-gram contains 6 words. This is useful because \"not good\" and \"so good\" mean very different things. On the other hand, as n increases, the model does not scale well since the feature set becomes more sparse.\n",
    "<li> Try a model besides Naive Bayes, one that would allow for interactions between words -- for example, a Random Forest classifier.\n",
    "<li> Try adding supplemental features -- information about genre, director, cast, etc.\n",
    "<li> Use word2vec or [Latent Dirichlet Allocation](https://en.wikipedia.org/wiki/Latent_Dirichlet_allocation) to group words into topics and use those topics for prediction.\n",
    "<li> Use TF-IDF weighting instead of word counts.\n",
    "</ol>\n",
    "</p>\n",
    "\n",
    "<b>Exercise:</b> Try a few of these ideas to improve the model (or any other ideas of your own). Implement here and report on the result.\n",
    "</div>"
   ]
  },
  {
   "cell_type": "code",
   "execution_count": 22,
   "metadata": {
    "collapsed": true
   },
   "outputs": [
    {
     "name": "stdout",
     "output_type": "stream",
     "text": [
      "score of 1_grams 0.6157635467980296\n",
      "score of 2_grams 0.6206896551724138\n",
      "score of 3_grams 0.6228314414221461\n",
      "score of 6_grams 0.6196187620475476\n"
     ]
    }
   ],
   "source": [
    "# Your turn\n",
    "from sklearn.feature_extraction.text import CountVectorizer\n",
    "\n",
    "\n",
    "for num in [1,2,3,6]:\n",
    "    vectorizer_Ngram = CountVectorizer(min_df=best_min_df,ngram_range=(num,1))       \n",
    "    X_Ngram, y_Ngram = make_xy(critics, vectorizer_Ngram)\n",
    "    x_Ntrain, x_Ntest, y_Ntrain, y_Ntest = train_test_split(X_Ngram, y_Ngram, test_size=.3)\n",
    "    classy_2gram = MultinomialNB(alpha=alpha)\n",
    "    classy_2gram.fit(x_Ntrain,y_Ntrain)\n",
    "    score = classy_2gram.score(x_Ntest, y_Ntest)\n",
    "    print('score of {}_grams {}'.format(num,score))\n"
   ]
  },
  {
   "cell_type": "markdown",
   "metadata": {},
   "source": [
    "1) Having the word length be specifically N made a worse classifier, but counting all as features made the classifier better except for when the length was 3."
   ]
  },
  {
   "cell_type": "code",
   "execution_count": 23,
   "metadata": {},
   "outputs": [
    {
     "name": "stdout",
     "output_type": "stream",
     "text": [
      "score of 1_grams 0.6742343114157208\n",
      "score of 2_grams 0.6733775969158278\n",
      "score of 3_grams 0.6836581709145427\n",
      "score of 6_grams 0.6860141357892482\n"
     ]
    }
   ],
   "source": [
    "from sklearn.ensemble import RandomForestClassifier\n",
    "\n",
    "for num in [1,2,3,6]:\n",
    "    vectorizer_Ngram = CountVectorizer(min_df=best_min_df,ngram_range=(num,1))       \n",
    "    X_Ngram, y_Ngram = make_xy(critics, vectorizer_Ngram)\n",
    "    x_Ntrain, x_Ntest, y_Ntrain, y_Ntest = train_test_split(X_Ngram, y_Ngram, test_size=.3)\n",
    "    classy_2gram_RF = RandomForestClassifier()\n",
    "    classy_2gram_RF.fit(x_Ntrain,y_Ntrain)\n",
    "    score = classy_2gram_RF.score(x_Ntest, y_Ntest)\n",
    "    print('score of {}_grams {}'.format(num,score))"
   ]
  },
  {
   "cell_type": "markdown",
   "metadata": {},
   "source": [
    "2) Random forest was a better classifier and saw a signifigant bonus (~1% more) for using 1-6 words for features."
   ]
  },
  {
   "cell_type": "code",
   "execution_count": 24,
   "metadata": {},
   "outputs": [
    {
     "name": "stdout",
     "output_type": "stream",
     "text": [
      "  (0, 137)\t2\n",
      "  (0, 258)\t1\n",
      "  (0, 401)\t1\n",
      "  (0, 475)\t1\n",
      "  (0, 578)\t1\n",
      "  (0, 632)\t1\n",
      "  (0, 761)\t1\n",
      "  (0, 1005)\t1\n",
      "  (0, 1491)\t1\n",
      "  (0, 1508)\t1\n",
      "  (0, 1565)\t1\n",
      "  (0, 1567)\t1\n",
      "  (0, 2042)\t1\n",
      "  (0, 2514)\t1\n",
      "  (0, 2677)\t1\n",
      "  (0, 2748)\t1\n",
      "  (0, 2776)\t1\n",
      "  (0, 2953)\t1\n",
      "  (0, 3212)\t1\n",
      "  (0, 3336)\t1\n"
     ]
    }
   ],
   "source": [
    "vectorizer_Ngram = CountVectorizer(min_df=best_min_df,ngram_range=(2,1))       \n",
    "X_Ngram, y_Ngram = make_xy(critics, vectorizer_Ngram)\n",
    "print(X_Ngram[0])"
   ]
  },
  {
   "cell_type": "code",
   "execution_count": 25,
   "metadata": {},
   "outputs": [],
   "source": [
    "def make_xy_with_supl(critics, vectorizer=None):\n",
    "    #Your code here    \n",
    "    if vectorizer is None:\n",
    "        vectorizer = CountVectorizer()\n",
    "    X_quote = vectorizer.fit_transform(critics.quote)\n",
    "    X_quote = X_quote.tocsc()  # some versions of sklearn return COO format\n",
    "    X_critic = critics.critic\n",
    "    X = [X_quote, X_critic]\n",
    "    y = (critics.fresh == 'fresh').values.astype(np.int)\n",
    "    return X, y\n",
    "X_tksdkd, y_sdfjkghs = make_xy(critics)"
   ]
  },
  {
   "cell_type": "markdown",
   "metadata": {},
   "source": [
    "3) Adding the Critic names increased the accuracy for smaller gram counts, but was less effective for largers gram counts. This could mean that certain words are used consistantly in positive or negative reviews by the same author but the phrase sample size is too sparce for each author."
   ]
  },
  {
   "cell_type": "code",
   "execution_count": 26,
   "metadata": {},
   "outputs": [
    {
     "name": "stdout",
     "output_type": "stream",
     "text": [
      "score of 1_grams 0.6813880126182965\n",
      "score of 2_grams 0.6748535376295629\n",
      "score of 3_grams 0.6705723298783236\n",
      "score of 6_grams 0.6858945470932852\n"
     ]
    }
   ],
   "source": [
    "from sklearn.ensemble import RandomForestClassifier\n",
    "critics_comments = critics[~critics.quote.isnull() & ~critics.critic.isnull()]\n",
    "\n",
    "for num in [1,2,3,6]:\n",
    "    vectorizer_Ngram = CountVectorizer(min_df=best_min_df,ngram_range=(num,1))\n",
    "    vectorizer_Critics = CountVectorizer(min_df=best_min_df,ngram_range=(2,2))\n",
    "    X_Ngram_quotes, y_Ngram = make_xy(critics_comments, vectorizer_Ngram)\n",
    "    X_quote = vectorizer_Critics.fit_transform(critics_comments.critic).tocsc()\n",
    "    X_Ngram = np.append(X_Ngram_quotes.toarray(),X_quote.toarray(), axis=1)\n",
    "    x_Ntrain, x_Ntest, y_Ntrain, y_Ntest = train_test_split(X_Ngram, y_Ngram, test_size=.3)\n",
    "    classy_2gram_RF = RandomForestClassifier()\n",
    "    classy_2gram_RF.fit(x_Ntrain,y_Ntrain)\n",
    "    score = classy_2gram_RF.score(x_Ntest, y_Ntest)\n",
    "    print('score of {}_grams {}'.format(num,score))"
   ]
  },
  {
   "cell_type": "markdown",
   "metadata": {},
   "source": [
    "4) Use word2vec or Latent Dirichlet Allocation to group words into topics and use those topics for prediction."
   ]
  },
  {
   "cell_type": "code",
   "execution_count": 28,
   "metadata": {},
   "outputs": [],
   "source": [
    "# gensim modules\n",
    "from gensim import utils\n",
    "from gensim.models import word2vec\n",
    "\n",
    "# classifier\n",
    "from sklearn.linear_model import LogisticRegression\n",
    "\n",
    "# random\n",
    "import random"
   ]
  },
  {
   "cell_type": "code",
   "execution_count": 29,
   "metadata": {},
   "outputs": [],
   "source": [
    "critics_base = critics[~critics.quote.isnull()]\n",
    "X_B = critics_base.quote\n",
    "y_B = (critics_base.fresh == 'fresh').values.astype(np.int)"
   ]
  },
  {
   "cell_type": "code",
   "execution_count": 138,
   "metadata": {},
   "outputs": [],
   "source": [
    "#section of code from https://github.com/dipanjanS/practical-machine-learning-with-python/blob/master/notebooks/Ch04_Feature_Engineering_and_Selection/Feature%20Engineering%20on%20Text%20Data.ipynb\n",
    "import nltk\n",
    "import re\n",
    "import string\n",
    "\n",
    "wpt = nltk.WordPunctTokenizer()\n",
    "stop_words = nltk.corpus.stopwords.words('english')\n",
    "stop_words.append(':')\n",
    "stop_words.append('\"')\n",
    "\n",
    "def normalize_document(doc):\n",
    "    # lower case and remove special characters\\whitespaces\n",
    "    doc = re.sub(r'[^a-zA-Z0-9\\s]', '', doc, re.I)\n",
    "    doc = doc.lower()\n",
    "    doc = doc.strip()\n",
    "    # tokenize document\n",
    "    tokens = wpt.tokenize(doc)\n",
    "    # filter stopwords out of document\n",
    "    filtered_tokens = [token for token in tokens if token not in stop_words]\n",
    "    # re-create document from filtered tokens\n",
    "    doc = ' '.join(filtered_tokens)\n",
    "    return doc\n",
    "\n",
    "normalize_corpus = np.vectorize(normalize_document)"
   ]
  },
  {
   "cell_type": "code",
   "execution_count": 139,
   "metadata": {},
   "outputs": [
    {
     "name": "stdout",
     "output_type": "stream",
     "text": [
      "['i', 'me', 'my', 'myself', 'we', 'our', 'ours', 'ourselves', 'you', \"you're\", \"you've\", \"you'll\", \"you'd\", 'your', 'yours', 'yourself', 'yourselves', 'he', 'him', 'his', 'himself', 'she', \"she's\", 'her', 'hers', 'herself', 'it', \"it's\", 'its', 'itself', 'they', 'them', 'their', 'theirs', 'themselves', 'what', 'which', 'who', 'whom', 'this', 'that', \"that'll\", 'these', 'those', 'am', 'is', 'are', 'was', 'were', 'be', 'been', 'being', 'have', 'has', 'had', 'having', 'do', 'does', 'did', 'doing', 'a', 'an', 'the', 'and', 'but', 'if', 'or', 'because', 'as', 'until', 'while', 'of', 'at', 'by', 'for', 'with', 'about', 'against', 'between', 'into', 'through', 'during', 'before', 'after', 'above', 'below', 'to', 'from', 'up', 'down', 'in', 'out', 'on', 'off', 'over', 'under', 'again', 'further', 'then', 'once', 'here', 'there', 'when', 'where', 'why', 'how', 'all', 'any', 'both', 'each', 'few', 'more', 'most', 'other', 'some', 'such', 'no', 'nor', 'not', 'only', 'own', 'same', 'so', 'than', 'too', 'very', 's', 't', 'can', 'will', 'just', 'don', \"don't\", 'should', \"should've\", 'now', 'd', 'll', 'm', 'o', 're', 've', 'y', 'ain', 'aren', \"aren't\", 'couldn', \"couldn't\", 'didn', \"didn't\", 'doesn', \"doesn't\", 'hadn', \"hadn't\", 'hasn', \"hasn't\", 'haven', \"haven't\", 'isn', \"isn't\", 'ma', 'mightn', \"mightn't\", 'mustn', \"mustn't\", 'needn', \"needn't\", 'shan', \"shan't\", 'shouldn', \"shouldn't\", 'wasn', \"wasn't\", 'weren', \"weren't\", 'won', \"won't\", 'wouldn', \"wouldn't\", ':', '\"']\n"
     ]
    }
   ],
   "source": [
    "print(stop_words)"
   ]
  },
  {
   "cell_type": "code",
   "execution_count": 140,
   "metadata": {},
   "outputs": [],
   "source": [
    "norm_sentences = normalize_corpus(X_B)"
   ]
  },
  {
   "cell_type": "code",
   "execution_count": 141,
   "metadata": {},
   "outputs": [],
   "source": [
    "wpt = nltk.WordPunctTokenizer()\n",
    "tokenized_corpus = [wpt.tokenize(document) for document in norm_sentences]"
   ]
  },
  {
   "cell_type": "code",
   "execution_count": 142,
   "metadata": {},
   "outputs": [
    {
     "name": "stdout",
     "output_type": "stream",
     "text": [
      "So ingenious in concept, design and execution that you could watch it on a postage stamp-sized screen and still be engulfed by its charm.\n",
      "ingenious concept design execution could watch postage stampsized screen still engulfed charm .\n",
      "['ingenious', 'concept', 'design', 'execution', 'could', 'watch', 'postage', 'stampsized', 'screen', 'still', 'engulfed', 'charm', '.']\n"
     ]
    }
   ],
   "source": [
    "print(X_B[1])\n",
    "print(norm_sentences[0])\n",
    "print(tokenized_corpus[0])"
   ]
  },
  {
   "cell_type": "code",
   "execution_count": 143,
   "metadata": {},
   "outputs": [],
   "source": [
    "# Set values for various parameters\n",
    "feature_size = 10    # Word vector dimensionality  \n",
    "window_context = 10          # Context window size                                                                                    \n",
    "min_word_count = 1   # Minimum word count                        \n",
    "sample = 1e-3   # Downsample setting for frequent words\n",
    "\n",
    "w2v_model = word2vec.Word2Vec(tokenized_corpus, size=feature_size, \n",
    "                          window=window_context, min_count = min_word_count,\n",
    "                          sample=sample)"
   ]
  },
  {
   "cell_type": "code",
   "execution_count": 144,
   "metadata": {},
   "outputs": [
    {
     "name": "stdout",
     "output_type": "stream",
     "text": [
      "Vocab(count:643, index:9, sample_int:3725375123)\n"
     ]
    }
   ],
   "source": [
    "print(w2v_model.wv.vocab['story'])"
   ]
  },
  {
   "cell_type": "code",
   "execution_count": 145,
   "metadata": {},
   "outputs": [
    {
     "name": "stdout",
     "output_type": "stream",
     "text": [
      "[-1.04924273 -8.76651287  1.09493685  2.09346914 -1.83412814 -1.25423634\n",
      "  0.7405352   0.59901601  0.04296269 -4.5945549 ]\n"
     ]
    }
   ],
   "source": [
    "print(w2v_model.wv['story'])"
   ]
  },
  {
   "cell_type": "code",
   "execution_count": 146,
   "metadata": {},
   "outputs": [
    {
     "name": "stderr",
     "output_type": "stream",
     "text": [
      "C:\\ProgramData\\Anaconda3\\lib\\site-packages\\ipykernel_launcher.py:1: DeprecationWarning: Call to deprecated `most_similar` (Method will be removed in 4.0.0, use self.wv.most_similar() instead).\n",
      "  \"\"\"Entry point for launching an IPython kernel.\n"
     ]
    },
    {
     "data": {
      "text/plain": [
       "[('fun', 0.9997376203536987),\n",
       " ('fashioned', 0.999602735042572),\n",
       " ('time', 0.9995411038398743),\n",
       " ('bad', 0.9994590878486633),\n",
       " ('funny', 0.9994226694107056),\n",
       " ('reason', 0.9993810653686523),\n",
       " ('movie', 0.9993763566017151),\n",
       " ('dread', 0.9993070960044861),\n",
       " ('sure', 0.9991840720176697),\n",
       " ('much', 0.9991728663444519)]"
      ]
     },
     "execution_count": 146,
     "metadata": {},
     "output_type": "execute_result"
    }
   ],
   "source": [
    "w2v_model.most_similar('good')"
   ]
  },
  {
   "cell_type": "code",
   "execution_count": 147,
   "metadata": {},
   "outputs": [
    {
     "name": "stderr",
     "output_type": "stream",
     "text": [
      "C:\\ProgramData\\Anaconda3\\lib\\site-packages\\ipykernel_launcher.py:1: DeprecationWarning: Call to deprecated `most_similar` (Method will be removed in 4.0.0, use self.wv.most_similar() instead).\n",
      "  \"\"\"Entry point for launching an IPython kernel.\n"
     ]
    },
    {
     "data": {
      "text/plain": [
       "[('fun', 0.9998077750205994),\n",
       " ('much', 0.9997171759605408),\n",
       " ('movie', 0.9996575713157654),\n",
       " ('oldfashioned', 0.9996516704559326),\n",
       " ('care', 0.9996368288993835),\n",
       " ('message', 0.9996294975280762),\n",
       " ('enough', 0.9996101260185242),\n",
       " ('really', 0.9995943903923035),\n",
       " ('kind', 0.99959397315979),\n",
       " ('certainly', 0.9995799660682678)]"
      ]
     },
     "execution_count": 147,
     "metadata": {},
     "output_type": "execute_result"
    }
   ],
   "source": [
    "w2v_model.most_similar('bad')"
   ]
  },
  {
   "cell_type": "code",
   "execution_count": 148,
   "metadata": {},
   "outputs": [],
   "source": [
    "def average_word_vectors(words, model, vocabulary, num_features):\n",
    "    feature_vector = np.zeros((num_features,),dtype=\"float64\")\n",
    "    nwords = 0.\n",
    "    \n",
    "    for word in words:\n",
    "        if word in vocabulary: \n",
    "            nwords = nwords + 1.\n",
    "            feature_vector = np.add(feature_vector, model[word])\n",
    "    \n",
    "    if nwords:\n",
    "        feature_vector = np.divide(feature_vector, nwords)\n",
    "        \n",
    "    return feature_vector\n",
    "   \n",
    "def averaged_word_vectorizer(corpus, model, num_features):\n",
    "    vocabulary = set(model.wv.index2word)\n",
    "    features = [average_word_vectors(tokenized_sentence, model, vocabulary, num_features)\n",
    "                    for tokenized_sentence in corpus]\n",
    "    return np.array(features)"
   ]
  },
  {
   "cell_type": "code",
   "execution_count": 149,
   "metadata": {},
   "outputs": [
    {
     "name": "stderr",
     "output_type": "stream",
     "text": [
      "C:\\ProgramData\\Anaconda3\\lib\\site-packages\\ipykernel_launcher.py:8: DeprecationWarning: Call to deprecated `__getitem__` (Method will be removed in 4.0.0, use self.wv.__getitem__() instead).\n",
      "  \n"
     ]
    },
    {
     "data": {
      "text/html": [
       "<div>\n",
       "<style>\n",
       "    .dataframe thead tr:only-child th {\n",
       "        text-align: right;\n",
       "    }\n",
       "\n",
       "    .dataframe thead th {\n",
       "        text-align: left;\n",
       "    }\n",
       "\n",
       "    .dataframe tbody tr th {\n",
       "        vertical-align: top;\n",
       "    }\n",
       "</style>\n",
       "<table border=\"1\" class=\"dataframe\">\n",
       "  <thead>\n",
       "    <tr style=\"text-align: right;\">\n",
       "      <th></th>\n",
       "      <th>0</th>\n",
       "      <th>1</th>\n",
       "      <th>2</th>\n",
       "      <th>3</th>\n",
       "      <th>4</th>\n",
       "      <th>5</th>\n",
       "      <th>6</th>\n",
       "      <th>7</th>\n",
       "      <th>8</th>\n",
       "      <th>9</th>\n",
       "    </tr>\n",
       "  </thead>\n",
       "  <tbody>\n",
       "    <tr>\n",
       "      <th>0</th>\n",
       "      <td>-0.474480</td>\n",
       "      <td>-3.586818</td>\n",
       "      <td>0.493540</td>\n",
       "      <td>0.830821</td>\n",
       "      <td>-0.748315</td>\n",
       "      <td>-0.501013</td>\n",
       "      <td>0.267652</td>\n",
       "      <td>0.246167</td>\n",
       "      <td>0.011282</td>\n",
       "      <td>-1.884384</td>\n",
       "    </tr>\n",
       "    <tr>\n",
       "      <th>1</th>\n",
       "      <td>-0.694043</td>\n",
       "      <td>-5.696067</td>\n",
       "      <td>0.775226</td>\n",
       "      <td>1.278510</td>\n",
       "      <td>-1.245597</td>\n",
       "      <td>-0.727308</td>\n",
       "      <td>0.390823</td>\n",
       "      <td>0.332911</td>\n",
       "      <td>-0.043341</td>\n",
       "      <td>-3.028719</td>\n",
       "    </tr>\n",
       "    <tr>\n",
       "      <th>2</th>\n",
       "      <td>-0.502149</td>\n",
       "      <td>-3.752770</td>\n",
       "      <td>0.466154</td>\n",
       "      <td>0.847230</td>\n",
       "      <td>-0.780263</td>\n",
       "      <td>-0.540531</td>\n",
       "      <td>0.268433</td>\n",
       "      <td>0.189343</td>\n",
       "      <td>0.007522</td>\n",
       "      <td>-1.968391</td>\n",
       "    </tr>\n",
       "    <tr>\n",
       "      <th>3</th>\n",
       "      <td>-0.549565</td>\n",
       "      <td>-4.206799</td>\n",
       "      <td>0.556800</td>\n",
       "      <td>0.950520</td>\n",
       "      <td>-0.869982</td>\n",
       "      <td>-0.587437</td>\n",
       "      <td>0.291530</td>\n",
       "      <td>0.220993</td>\n",
       "      <td>0.012583</td>\n",
       "      <td>-2.204899</td>\n",
       "    </tr>\n",
       "    <tr>\n",
       "      <th>4</th>\n",
       "      <td>-0.613635</td>\n",
       "      <td>-4.260667</td>\n",
       "      <td>0.594445</td>\n",
       "      <td>0.974268</td>\n",
       "      <td>-0.887983</td>\n",
       "      <td>-0.610342</td>\n",
       "      <td>0.378443</td>\n",
       "      <td>0.349523</td>\n",
       "      <td>-0.049811</td>\n",
       "      <td>-2.242275</td>\n",
       "    </tr>\n",
       "    <tr>\n",
       "      <th>5</th>\n",
       "      <td>-0.675787</td>\n",
       "      <td>-4.635782</td>\n",
       "      <td>0.641760</td>\n",
       "      <td>1.067934</td>\n",
       "      <td>-0.974555</td>\n",
       "      <td>-0.653799</td>\n",
       "      <td>0.440986</td>\n",
       "      <td>0.447037</td>\n",
       "      <td>-0.073808</td>\n",
       "      <td>-2.437633</td>\n",
       "    </tr>\n",
       "    <tr>\n",
       "      <th>6</th>\n",
       "      <td>-0.595042</td>\n",
       "      <td>-3.931017</td>\n",
       "      <td>0.547801</td>\n",
       "      <td>0.915896</td>\n",
       "      <td>-0.812052</td>\n",
       "      <td>-0.543767</td>\n",
       "      <td>0.386833</td>\n",
       "      <td>0.441583</td>\n",
       "      <td>-0.053642</td>\n",
       "      <td>-2.118372</td>\n",
       "    </tr>\n",
       "    <tr>\n",
       "      <th>7</th>\n",
       "      <td>-0.469686</td>\n",
       "      <td>-3.593305</td>\n",
       "      <td>0.478789</td>\n",
       "      <td>0.809119</td>\n",
       "      <td>-0.748078</td>\n",
       "      <td>-0.523473</td>\n",
       "      <td>0.257715</td>\n",
       "      <td>0.209026</td>\n",
       "      <td>0.034938</td>\n",
       "      <td>-1.890662</td>\n",
       "    </tr>\n",
       "    <tr>\n",
       "      <th>8</th>\n",
       "      <td>-0.552679</td>\n",
       "      <td>-4.101592</td>\n",
       "      <td>0.548023</td>\n",
       "      <td>0.949349</td>\n",
       "      <td>-0.842508</td>\n",
       "      <td>-0.588438</td>\n",
       "      <td>0.322770</td>\n",
       "      <td>0.274091</td>\n",
       "      <td>-0.001101</td>\n",
       "      <td>-2.138061</td>\n",
       "    </tr>\n",
       "    <tr>\n",
       "      <th>9</th>\n",
       "      <td>-0.539119</td>\n",
       "      <td>-3.803846</td>\n",
       "      <td>0.548997</td>\n",
       "      <td>0.849850</td>\n",
       "      <td>-0.796440</td>\n",
       "      <td>-0.530073</td>\n",
       "      <td>0.309336</td>\n",
       "      <td>0.351949</td>\n",
       "      <td>-0.042530</td>\n",
       "      <td>-2.023977</td>\n",
       "    </tr>\n",
       "    <tr>\n",
       "      <th>10</th>\n",
       "      <td>-0.430411</td>\n",
       "      <td>-3.161835</td>\n",
       "      <td>0.407405</td>\n",
       "      <td>0.714815</td>\n",
       "      <td>-0.676207</td>\n",
       "      <td>-0.443721</td>\n",
       "      <td>0.250004</td>\n",
       "      <td>0.223098</td>\n",
       "      <td>-0.021276</td>\n",
       "      <td>-1.608568</td>\n",
       "    </tr>\n",
       "    <tr>\n",
       "      <th>11</th>\n",
       "      <td>-0.719887</td>\n",
       "      <td>-4.790555</td>\n",
       "      <td>0.690658</td>\n",
       "      <td>1.070525</td>\n",
       "      <td>-1.037401</td>\n",
       "      <td>-0.655710</td>\n",
       "      <td>0.423535</td>\n",
       "      <td>0.495247</td>\n",
       "      <td>-0.081898</td>\n",
       "      <td>-2.571911</td>\n",
       "    </tr>\n",
       "    <tr>\n",
       "      <th>12</th>\n",
       "      <td>-0.612235</td>\n",
       "      <td>-4.073050</td>\n",
       "      <td>0.599431</td>\n",
       "      <td>0.895017</td>\n",
       "      <td>-0.868809</td>\n",
       "      <td>-0.562615</td>\n",
       "      <td>0.351339</td>\n",
       "      <td>0.417169</td>\n",
       "      <td>-0.054136</td>\n",
       "      <td>-2.176696</td>\n",
       "    </tr>\n",
       "    <tr>\n",
       "      <th>13</th>\n",
       "      <td>-0.598994</td>\n",
       "      <td>-3.992967</td>\n",
       "      <td>0.588802</td>\n",
       "      <td>0.909821</td>\n",
       "      <td>-0.845963</td>\n",
       "      <td>-0.550731</td>\n",
       "      <td>0.390360</td>\n",
       "      <td>0.444817</td>\n",
       "      <td>-0.060866</td>\n",
       "      <td>-2.158415</td>\n",
       "    </tr>\n",
       "    <tr>\n",
       "      <th>14</th>\n",
       "      <td>-0.426920</td>\n",
       "      <td>-3.391314</td>\n",
       "      <td>0.443040</td>\n",
       "      <td>0.787180</td>\n",
       "      <td>-0.722486</td>\n",
       "      <td>-0.509369</td>\n",
       "      <td>0.254597</td>\n",
       "      <td>0.211870</td>\n",
       "      <td>-0.023768</td>\n",
       "      <td>-1.758288</td>\n",
       "    </tr>\n",
       "    <tr>\n",
       "      <th>15</th>\n",
       "      <td>-0.376475</td>\n",
       "      <td>-3.091652</td>\n",
       "      <td>0.383631</td>\n",
       "      <td>0.697261</td>\n",
       "      <td>-0.644270</td>\n",
       "      <td>-0.432909</td>\n",
       "      <td>0.227158</td>\n",
       "      <td>0.199560</td>\n",
       "      <td>0.014505</td>\n",
       "      <td>-1.589033</td>\n",
       "    </tr>\n",
       "    <tr>\n",
       "      <th>16</th>\n",
       "      <td>-0.505411</td>\n",
       "      <td>-3.331498</td>\n",
       "      <td>0.499939</td>\n",
       "      <td>0.730282</td>\n",
       "      <td>-0.707548</td>\n",
       "      <td>-0.446419</td>\n",
       "      <td>0.274471</td>\n",
       "      <td>0.363013</td>\n",
       "      <td>-0.043458</td>\n",
       "      <td>-1.805987</td>\n",
       "    </tr>\n",
       "    <tr>\n",
       "      <th>17</th>\n",
       "      <td>-0.691165</td>\n",
       "      <td>-4.936145</td>\n",
       "      <td>0.653787</td>\n",
       "      <td>1.110422</td>\n",
       "      <td>-1.037299</td>\n",
       "      <td>-0.699204</td>\n",
       "      <td>0.386487</td>\n",
       "      <td>0.377778</td>\n",
       "      <td>-0.033905</td>\n",
       "      <td>-2.591921</td>\n",
       "    </tr>\n",
       "    <tr>\n",
       "      <th>18</th>\n",
       "      <td>-0.561947</td>\n",
       "      <td>-4.031716</td>\n",
       "      <td>0.572760</td>\n",
       "      <td>0.920737</td>\n",
       "      <td>-0.828028</td>\n",
       "      <td>-0.560172</td>\n",
       "      <td>0.302375</td>\n",
       "      <td>0.221344</td>\n",
       "      <td>-0.015379</td>\n",
       "      <td>-2.090840</td>\n",
       "    </tr>\n",
       "    <tr>\n",
       "      <th>19</th>\n",
       "      <td>-0.301412</td>\n",
       "      <td>-2.146411</td>\n",
       "      <td>0.307464</td>\n",
       "      <td>0.484566</td>\n",
       "      <td>-0.439496</td>\n",
       "      <td>-0.296365</td>\n",
       "      <td>0.177402</td>\n",
       "      <td>0.165799</td>\n",
       "      <td>-0.012603</td>\n",
       "      <td>-1.136080</td>\n",
       "    </tr>\n",
       "    <tr>\n",
       "      <th>20</th>\n",
       "      <td>-0.527601</td>\n",
       "      <td>-3.739212</td>\n",
       "      <td>0.488113</td>\n",
       "      <td>0.821309</td>\n",
       "      <td>-0.753255</td>\n",
       "      <td>-0.492558</td>\n",
       "      <td>0.286222</td>\n",
       "      <td>0.190996</td>\n",
       "      <td>0.001429</td>\n",
       "      <td>-1.962353</td>\n",
       "    </tr>\n",
       "    <tr>\n",
       "      <th>21</th>\n",
       "      <td>-0.324600</td>\n",
       "      <td>-2.516597</td>\n",
       "      <td>0.311899</td>\n",
       "      <td>0.549106</td>\n",
       "      <td>-0.514213</td>\n",
       "      <td>-0.339645</td>\n",
       "      <td>0.211099</td>\n",
       "      <td>0.163891</td>\n",
       "      <td>-0.054364</td>\n",
       "      <td>-1.271383</td>\n",
       "    </tr>\n",
       "    <tr>\n",
       "      <th>22</th>\n",
       "      <td>-0.089077</td>\n",
       "      <td>-0.476911</td>\n",
       "      <td>0.083989</td>\n",
       "      <td>0.100053</td>\n",
       "      <td>-0.092481</td>\n",
       "      <td>-0.035032</td>\n",
       "      <td>0.073859</td>\n",
       "      <td>0.048551</td>\n",
       "      <td>0.015947</td>\n",
       "      <td>-0.218484</td>\n",
       "    </tr>\n",
       "    <tr>\n",
       "      <th>23</th>\n",
       "      <td>-0.490000</td>\n",
       "      <td>-3.238744</td>\n",
       "      <td>0.464820</td>\n",
       "      <td>0.748646</td>\n",
       "      <td>-0.658711</td>\n",
       "      <td>-0.462642</td>\n",
       "      <td>0.329022</td>\n",
       "      <td>0.315564</td>\n",
       "      <td>-0.083076</td>\n",
       "      <td>-1.671215</td>\n",
       "    </tr>\n",
       "    <tr>\n",
       "      <th>24</th>\n",
       "      <td>-0.577830</td>\n",
       "      <td>-4.139657</td>\n",
       "      <td>0.544309</td>\n",
       "      <td>0.956604</td>\n",
       "      <td>-0.858312</td>\n",
       "      <td>-0.613826</td>\n",
       "      <td>0.307755</td>\n",
       "      <td>0.264497</td>\n",
       "      <td>-0.031011</td>\n",
       "      <td>-2.144521</td>\n",
       "    </tr>\n",
       "    <tr>\n",
       "      <th>25</th>\n",
       "      <td>-0.467895</td>\n",
       "      <td>-3.467994</td>\n",
       "      <td>0.451651</td>\n",
       "      <td>0.783684</td>\n",
       "      <td>-0.717702</td>\n",
       "      <td>-0.488772</td>\n",
       "      <td>0.277136</td>\n",
       "      <td>0.242734</td>\n",
       "      <td>-0.014311</td>\n",
       "      <td>-1.806100</td>\n",
       "    </tr>\n",
       "    <tr>\n",
       "      <th>26</th>\n",
       "      <td>-0.544634</td>\n",
       "      <td>-3.794049</td>\n",
       "      <td>0.517537</td>\n",
       "      <td>0.873222</td>\n",
       "      <td>-0.802015</td>\n",
       "      <td>-0.541291</td>\n",
       "      <td>0.350570</td>\n",
       "      <td>0.347897</td>\n",
       "      <td>-0.072664</td>\n",
       "      <td>-1.984537</td>\n",
       "    </tr>\n",
       "    <tr>\n",
       "      <th>27</th>\n",
       "      <td>-0.490820</td>\n",
       "      <td>-3.793045</td>\n",
       "      <td>0.504489</td>\n",
       "      <td>0.868321</td>\n",
       "      <td>-0.785686</td>\n",
       "      <td>-0.545711</td>\n",
       "      <td>0.261974</td>\n",
       "      <td>0.208303</td>\n",
       "      <td>0.006606</td>\n",
       "      <td>-1.952714</td>\n",
       "    </tr>\n",
       "    <tr>\n",
       "      <th>28</th>\n",
       "      <td>-0.398891</td>\n",
       "      <td>-3.024251</td>\n",
       "      <td>0.377910</td>\n",
       "      <td>0.699993</td>\n",
       "      <td>-0.622299</td>\n",
       "      <td>-0.429806</td>\n",
       "      <td>0.223445</td>\n",
       "      <td>0.166169</td>\n",
       "      <td>0.016260</td>\n",
       "      <td>-1.566053</td>\n",
       "    </tr>\n",
       "    <tr>\n",
       "      <th>29</th>\n",
       "      <td>-0.475726</td>\n",
       "      <td>-3.200022</td>\n",
       "      <td>0.429077</td>\n",
       "      <td>0.755853</td>\n",
       "      <td>-0.664599</td>\n",
       "      <td>-0.452602</td>\n",
       "      <td>0.307990</td>\n",
       "      <td>0.307512</td>\n",
       "      <td>-0.044512</td>\n",
       "      <td>-1.683660</td>\n",
       "    </tr>\n",
       "    <tr>\n",
       "      <th>...</th>\n",
       "      <td>...</td>\n",
       "      <td>...</td>\n",
       "      <td>...</td>\n",
       "      <td>...</td>\n",
       "      <td>...</td>\n",
       "      <td>...</td>\n",
       "      <td>...</td>\n",
       "      <td>...</td>\n",
       "      <td>...</td>\n",
       "      <td>...</td>\n",
       "    </tr>\n",
       "    <tr>\n",
       "      <th>15531</th>\n",
       "      <td>-0.508448</td>\n",
       "      <td>-3.608228</td>\n",
       "      <td>0.493570</td>\n",
       "      <td>0.834897</td>\n",
       "      <td>-0.736586</td>\n",
       "      <td>-0.511727</td>\n",
       "      <td>0.300032</td>\n",
       "      <td>0.268416</td>\n",
       "      <td>-0.003912</td>\n",
       "      <td>-1.897733</td>\n",
       "    </tr>\n",
       "    <tr>\n",
       "      <th>15532</th>\n",
       "      <td>-0.829950</td>\n",
       "      <td>-5.472259</td>\n",
       "      <td>0.767773</td>\n",
       "      <td>1.256323</td>\n",
       "      <td>-1.169646</td>\n",
       "      <td>-0.766705</td>\n",
       "      <td>0.599068</td>\n",
       "      <td>0.640204</td>\n",
       "      <td>-0.139532</td>\n",
       "      <td>-2.900293</td>\n",
       "    </tr>\n",
       "    <tr>\n",
       "      <th>15533</th>\n",
       "      <td>-0.413084</td>\n",
       "      <td>-2.943960</td>\n",
       "      <td>0.395489</td>\n",
       "      <td>0.673431</td>\n",
       "      <td>-0.611806</td>\n",
       "      <td>-0.418037</td>\n",
       "      <td>0.255029</td>\n",
       "      <td>0.220355</td>\n",
       "      <td>-0.027398</td>\n",
       "      <td>-1.546463</td>\n",
       "    </tr>\n",
       "    <tr>\n",
       "      <th>15534</th>\n",
       "      <td>-0.516037</td>\n",
       "      <td>-3.547419</td>\n",
       "      <td>0.489357</td>\n",
       "      <td>0.821150</td>\n",
       "      <td>-0.734665</td>\n",
       "      <td>-0.494830</td>\n",
       "      <td>0.331894</td>\n",
       "      <td>0.339207</td>\n",
       "      <td>-0.052377</td>\n",
       "      <td>-1.875385</td>\n",
       "    </tr>\n",
       "    <tr>\n",
       "      <th>15535</th>\n",
       "      <td>-0.625176</td>\n",
       "      <td>-4.557203</td>\n",
       "      <td>0.617185</td>\n",
       "      <td>1.038777</td>\n",
       "      <td>-0.973585</td>\n",
       "      <td>-0.673780</td>\n",
       "      <td>0.357951</td>\n",
       "      <td>0.271927</td>\n",
       "      <td>-0.035647</td>\n",
       "      <td>-2.341020</td>\n",
       "    </tr>\n",
       "    <tr>\n",
       "      <th>15536</th>\n",
       "      <td>-0.397998</td>\n",
       "      <td>-3.077062</td>\n",
       "      <td>0.406371</td>\n",
       "      <td>0.710652</td>\n",
       "      <td>-0.630873</td>\n",
       "      <td>-0.438476</td>\n",
       "      <td>0.190518</td>\n",
       "      <td>0.152232</td>\n",
       "      <td>0.033688</td>\n",
       "      <td>-1.609167</td>\n",
       "    </tr>\n",
       "    <tr>\n",
       "      <th>15537</th>\n",
       "      <td>-0.510961</td>\n",
       "      <td>-3.822957</td>\n",
       "      <td>0.513321</td>\n",
       "      <td>0.872379</td>\n",
       "      <td>-0.776462</td>\n",
       "      <td>-0.546853</td>\n",
       "      <td>0.266934</td>\n",
       "      <td>0.209930</td>\n",
       "      <td>0.005666</td>\n",
       "      <td>-2.007162</td>\n",
       "    </tr>\n",
       "    <tr>\n",
       "      <th>15538</th>\n",
       "      <td>-0.536229</td>\n",
       "      <td>-3.898760</td>\n",
       "      <td>0.545828</td>\n",
       "      <td>0.876768</td>\n",
       "      <td>-0.788945</td>\n",
       "      <td>-0.542648</td>\n",
       "      <td>0.298022</td>\n",
       "      <td>0.250636</td>\n",
       "      <td>-0.009522</td>\n",
       "      <td>-2.061781</td>\n",
       "    </tr>\n",
       "    <tr>\n",
       "      <th>15539</th>\n",
       "      <td>-0.227744</td>\n",
       "      <td>-1.676550</td>\n",
       "      <td>0.231145</td>\n",
       "      <td>0.376842</td>\n",
       "      <td>-0.343237</td>\n",
       "      <td>-0.270829</td>\n",
       "      <td>0.106379</td>\n",
       "      <td>0.043922</td>\n",
       "      <td>0.011602</td>\n",
       "      <td>-0.909334</td>\n",
       "    </tr>\n",
       "    <tr>\n",
       "      <th>15540</th>\n",
       "      <td>-0.232933</td>\n",
       "      <td>-1.746682</td>\n",
       "      <td>0.240709</td>\n",
       "      <td>0.405596</td>\n",
       "      <td>-0.361880</td>\n",
       "      <td>-0.246306</td>\n",
       "      <td>0.122299</td>\n",
       "      <td>0.100951</td>\n",
       "      <td>0.027447</td>\n",
       "      <td>-0.916502</td>\n",
       "    </tr>\n",
       "    <tr>\n",
       "      <th>15541</th>\n",
       "      <td>-0.344724</td>\n",
       "      <td>-2.588897</td>\n",
       "      <td>0.331082</td>\n",
       "      <td>0.577269</td>\n",
       "      <td>-0.535603</td>\n",
       "      <td>-0.364064</td>\n",
       "      <td>0.170417</td>\n",
       "      <td>0.123741</td>\n",
       "      <td>0.011127</td>\n",
       "      <td>-1.359642</td>\n",
       "    </tr>\n",
       "    <tr>\n",
       "      <th>15542</th>\n",
       "      <td>-0.399828</td>\n",
       "      <td>-3.093929</td>\n",
       "      <td>0.409807</td>\n",
       "      <td>0.715858</td>\n",
       "      <td>-0.651404</td>\n",
       "      <td>-0.440069</td>\n",
       "      <td>0.211190</td>\n",
       "      <td>0.164786</td>\n",
       "      <td>0.027130</td>\n",
       "      <td>-1.613396</td>\n",
       "    </tr>\n",
       "    <tr>\n",
       "      <th>15543</th>\n",
       "      <td>-0.370390</td>\n",
       "      <td>-2.965132</td>\n",
       "      <td>0.355251</td>\n",
       "      <td>0.680166</td>\n",
       "      <td>-0.620938</td>\n",
       "      <td>-0.409010</td>\n",
       "      <td>0.216669</td>\n",
       "      <td>0.166729</td>\n",
       "      <td>-0.008639</td>\n",
       "      <td>-1.533277</td>\n",
       "    </tr>\n",
       "    <tr>\n",
       "      <th>15544</th>\n",
       "      <td>-0.618749</td>\n",
       "      <td>-4.221843</td>\n",
       "      <td>0.582548</td>\n",
       "      <td>0.988067</td>\n",
       "      <td>-0.896611</td>\n",
       "      <td>-0.604990</td>\n",
       "      <td>0.439719</td>\n",
       "      <td>0.433039</td>\n",
       "      <td>-0.101557</td>\n",
       "      <td>-2.223451</td>\n",
       "    </tr>\n",
       "    <tr>\n",
       "      <th>15545</th>\n",
       "      <td>-0.433234</td>\n",
       "      <td>-2.942448</td>\n",
       "      <td>0.427695</td>\n",
       "      <td>0.675083</td>\n",
       "      <td>-0.588773</td>\n",
       "      <td>-0.424582</td>\n",
       "      <td>0.258375</td>\n",
       "      <td>0.242338</td>\n",
       "      <td>-0.018514</td>\n",
       "      <td>-1.553245</td>\n",
       "    </tr>\n",
       "    <tr>\n",
       "      <th>15546</th>\n",
       "      <td>-0.779608</td>\n",
       "      <td>-5.144643</td>\n",
       "      <td>0.743109</td>\n",
       "      <td>1.169439</td>\n",
       "      <td>-1.086639</td>\n",
       "      <td>-0.693669</td>\n",
       "      <td>0.499396</td>\n",
       "      <td>0.578617</td>\n",
       "      <td>-0.093583</td>\n",
       "      <td>-2.782449</td>\n",
       "    </tr>\n",
       "    <tr>\n",
       "      <th>15547</th>\n",
       "      <td>-0.448967</td>\n",
       "      <td>-3.533967</td>\n",
       "      <td>0.490182</td>\n",
       "      <td>0.780928</td>\n",
       "      <td>-0.723788</td>\n",
       "      <td>-0.481973</td>\n",
       "      <td>0.267907</td>\n",
       "      <td>0.174506</td>\n",
       "      <td>0.005387</td>\n",
       "      <td>-1.858694</td>\n",
       "    </tr>\n",
       "    <tr>\n",
       "      <th>15548</th>\n",
       "      <td>-0.370749</td>\n",
       "      <td>-2.778323</td>\n",
       "      <td>0.366431</td>\n",
       "      <td>0.634354</td>\n",
       "      <td>-0.549034</td>\n",
       "      <td>-0.420759</td>\n",
       "      <td>0.144926</td>\n",
       "      <td>0.153134</td>\n",
       "      <td>0.051254</td>\n",
       "      <td>-1.467969</td>\n",
       "    </tr>\n",
       "    <tr>\n",
       "      <th>15549</th>\n",
       "      <td>-0.303933</td>\n",
       "      <td>-2.377281</td>\n",
       "      <td>0.308730</td>\n",
       "      <td>0.548300</td>\n",
       "      <td>-0.505259</td>\n",
       "      <td>-0.342584</td>\n",
       "      <td>0.146503</td>\n",
       "      <td>0.114021</td>\n",
       "      <td>0.004607</td>\n",
       "      <td>-1.241989</td>\n",
       "    </tr>\n",
       "    <tr>\n",
       "      <th>15550</th>\n",
       "      <td>-0.538377</td>\n",
       "      <td>-3.786501</td>\n",
       "      <td>0.521268</td>\n",
       "      <td>0.869018</td>\n",
       "      <td>-0.792648</td>\n",
       "      <td>-0.535540</td>\n",
       "      <td>0.309855</td>\n",
       "      <td>0.279043</td>\n",
       "      <td>-0.008596</td>\n",
       "      <td>-1.983726</td>\n",
       "    </tr>\n",
       "    <tr>\n",
       "      <th>15551</th>\n",
       "      <td>-0.728070</td>\n",
       "      <td>-4.786909</td>\n",
       "      <td>0.709241</td>\n",
       "      <td>1.079776</td>\n",
       "      <td>-1.041520</td>\n",
       "      <td>-0.624182</td>\n",
       "      <td>0.468412</td>\n",
       "      <td>0.576342</td>\n",
       "      <td>-0.094351</td>\n",
       "      <td>-2.597794</td>\n",
       "    </tr>\n",
       "    <tr>\n",
       "      <th>15552</th>\n",
       "      <td>-0.638375</td>\n",
       "      <td>-4.718708</td>\n",
       "      <td>0.595535</td>\n",
       "      <td>1.062493</td>\n",
       "      <td>-1.013614</td>\n",
       "      <td>-0.639287</td>\n",
       "      <td>0.373317</td>\n",
       "      <td>0.326474</td>\n",
       "      <td>-0.054040</td>\n",
       "      <td>-2.386904</td>\n",
       "    </tr>\n",
       "    <tr>\n",
       "      <th>15553</th>\n",
       "      <td>-0.084306</td>\n",
       "      <td>-0.483030</td>\n",
       "      <td>0.081145</td>\n",
       "      <td>0.122370</td>\n",
       "      <td>-0.106718</td>\n",
       "      <td>-0.094662</td>\n",
       "      <td>0.016869</td>\n",
       "      <td>0.008848</td>\n",
       "      <td>-0.013733</td>\n",
       "      <td>-0.252665</td>\n",
       "    </tr>\n",
       "    <tr>\n",
       "      <th>15554</th>\n",
       "      <td>-0.520137</td>\n",
       "      <td>-3.839162</td>\n",
       "      <td>0.504813</td>\n",
       "      <td>0.871133</td>\n",
       "      <td>-0.795498</td>\n",
       "      <td>-0.540970</td>\n",
       "      <td>0.285390</td>\n",
       "      <td>0.214421</td>\n",
       "      <td>0.002512</td>\n",
       "      <td>-2.000823</td>\n",
       "    </tr>\n",
       "    <tr>\n",
       "      <th>15555</th>\n",
       "      <td>-0.538741</td>\n",
       "      <td>-3.695529</td>\n",
       "      <td>0.507789</td>\n",
       "      <td>0.854834</td>\n",
       "      <td>-0.763423</td>\n",
       "      <td>-0.527923</td>\n",
       "      <td>0.306220</td>\n",
       "      <td>0.261557</td>\n",
       "      <td>-0.026206</td>\n",
       "      <td>-1.944761</td>\n",
       "    </tr>\n",
       "    <tr>\n",
       "      <th>15556</th>\n",
       "      <td>-0.330418</td>\n",
       "      <td>-2.507166</td>\n",
       "      <td>0.317799</td>\n",
       "      <td>0.562821</td>\n",
       "      <td>-0.527916</td>\n",
       "      <td>-0.346261</td>\n",
       "      <td>0.171446</td>\n",
       "      <td>0.134556</td>\n",
       "      <td>0.015900</td>\n",
       "      <td>-1.288726</td>\n",
       "    </tr>\n",
       "    <tr>\n",
       "      <th>15557</th>\n",
       "      <td>-0.406707</td>\n",
       "      <td>-3.130359</td>\n",
       "      <td>0.408715</td>\n",
       "      <td>0.730893</td>\n",
       "      <td>-0.650582</td>\n",
       "      <td>-0.451120</td>\n",
       "      <td>0.206399</td>\n",
       "      <td>0.156598</td>\n",
       "      <td>0.023920</td>\n",
       "      <td>-1.678028</td>\n",
       "    </tr>\n",
       "    <tr>\n",
       "      <th>15558</th>\n",
       "      <td>-0.611157</td>\n",
       "      <td>-4.502643</td>\n",
       "      <td>0.589592</td>\n",
       "      <td>1.049622</td>\n",
       "      <td>-0.944142</td>\n",
       "      <td>-0.658677</td>\n",
       "      <td>0.333422</td>\n",
       "      <td>0.268340</td>\n",
       "      <td>-0.021187</td>\n",
       "      <td>-2.306119</td>\n",
       "    </tr>\n",
       "    <tr>\n",
       "      <th>15559</th>\n",
       "      <td>-0.583246</td>\n",
       "      <td>-4.177144</td>\n",
       "      <td>0.571441</td>\n",
       "      <td>0.976610</td>\n",
       "      <td>-0.868072</td>\n",
       "      <td>-0.596289</td>\n",
       "      <td>0.357659</td>\n",
       "      <td>0.338395</td>\n",
       "      <td>-0.038058</td>\n",
       "      <td>-2.198475</td>\n",
       "    </tr>\n",
       "    <tr>\n",
       "      <th>15560</th>\n",
       "      <td>-0.537869</td>\n",
       "      <td>-3.884601</td>\n",
       "      <td>0.535041</td>\n",
       "      <td>0.886434</td>\n",
       "      <td>-0.804673</td>\n",
       "      <td>-0.551152</td>\n",
       "      <td>0.312411</td>\n",
       "      <td>0.295345</td>\n",
       "      <td>-0.021581</td>\n",
       "      <td>-2.019219</td>\n",
       "    </tr>\n",
       "  </tbody>\n",
       "</table>\n",
       "<p>15561 rows × 10 columns</p>\n",
       "</div>"
      ],
      "text/plain": [
       "              0         1         2         3         4         5         6         7         8         9\n",
       "0     -0.474480 -3.586818  0.493540  0.830821 -0.748315 -0.501013  0.267652  0.246167  0.011282 -1.884384\n",
       "1     -0.694043 -5.696067  0.775226  1.278510 -1.245597 -0.727308  0.390823  0.332911 -0.043341 -3.028719\n",
       "2     -0.502149 -3.752770  0.466154  0.847230 -0.780263 -0.540531  0.268433  0.189343  0.007522 -1.968391\n",
       "3     -0.549565 -4.206799  0.556800  0.950520 -0.869982 -0.587437  0.291530  0.220993  0.012583 -2.204899\n",
       "4     -0.613635 -4.260667  0.594445  0.974268 -0.887983 -0.610342  0.378443  0.349523 -0.049811 -2.242275\n",
       "5     -0.675787 -4.635782  0.641760  1.067934 -0.974555 -0.653799  0.440986  0.447037 -0.073808 -2.437633\n",
       "6     -0.595042 -3.931017  0.547801  0.915896 -0.812052 -0.543767  0.386833  0.441583 -0.053642 -2.118372\n",
       "7     -0.469686 -3.593305  0.478789  0.809119 -0.748078 -0.523473  0.257715  0.209026  0.034938 -1.890662\n",
       "8     -0.552679 -4.101592  0.548023  0.949349 -0.842508 -0.588438  0.322770  0.274091 -0.001101 -2.138061\n",
       "9     -0.539119 -3.803846  0.548997  0.849850 -0.796440 -0.530073  0.309336  0.351949 -0.042530 -2.023977\n",
       "10    -0.430411 -3.161835  0.407405  0.714815 -0.676207 -0.443721  0.250004  0.223098 -0.021276 -1.608568\n",
       "11    -0.719887 -4.790555  0.690658  1.070525 -1.037401 -0.655710  0.423535  0.495247 -0.081898 -2.571911\n",
       "12    -0.612235 -4.073050  0.599431  0.895017 -0.868809 -0.562615  0.351339  0.417169 -0.054136 -2.176696\n",
       "13    -0.598994 -3.992967  0.588802  0.909821 -0.845963 -0.550731  0.390360  0.444817 -0.060866 -2.158415\n",
       "14    -0.426920 -3.391314  0.443040  0.787180 -0.722486 -0.509369  0.254597  0.211870 -0.023768 -1.758288\n",
       "15    -0.376475 -3.091652  0.383631  0.697261 -0.644270 -0.432909  0.227158  0.199560  0.014505 -1.589033\n",
       "16    -0.505411 -3.331498  0.499939  0.730282 -0.707548 -0.446419  0.274471  0.363013 -0.043458 -1.805987\n",
       "17    -0.691165 -4.936145  0.653787  1.110422 -1.037299 -0.699204  0.386487  0.377778 -0.033905 -2.591921\n",
       "18    -0.561947 -4.031716  0.572760  0.920737 -0.828028 -0.560172  0.302375  0.221344 -0.015379 -2.090840\n",
       "19    -0.301412 -2.146411  0.307464  0.484566 -0.439496 -0.296365  0.177402  0.165799 -0.012603 -1.136080\n",
       "20    -0.527601 -3.739212  0.488113  0.821309 -0.753255 -0.492558  0.286222  0.190996  0.001429 -1.962353\n",
       "21    -0.324600 -2.516597  0.311899  0.549106 -0.514213 -0.339645  0.211099  0.163891 -0.054364 -1.271383\n",
       "22    -0.089077 -0.476911  0.083989  0.100053 -0.092481 -0.035032  0.073859  0.048551  0.015947 -0.218484\n",
       "23    -0.490000 -3.238744  0.464820  0.748646 -0.658711 -0.462642  0.329022  0.315564 -0.083076 -1.671215\n",
       "24    -0.577830 -4.139657  0.544309  0.956604 -0.858312 -0.613826  0.307755  0.264497 -0.031011 -2.144521\n",
       "25    -0.467895 -3.467994  0.451651  0.783684 -0.717702 -0.488772  0.277136  0.242734 -0.014311 -1.806100\n",
       "26    -0.544634 -3.794049  0.517537  0.873222 -0.802015 -0.541291  0.350570  0.347897 -0.072664 -1.984537\n",
       "27    -0.490820 -3.793045  0.504489  0.868321 -0.785686 -0.545711  0.261974  0.208303  0.006606 -1.952714\n",
       "28    -0.398891 -3.024251  0.377910  0.699993 -0.622299 -0.429806  0.223445  0.166169  0.016260 -1.566053\n",
       "29    -0.475726 -3.200022  0.429077  0.755853 -0.664599 -0.452602  0.307990  0.307512 -0.044512 -1.683660\n",
       "...         ...       ...       ...       ...       ...       ...       ...       ...       ...       ...\n",
       "15531 -0.508448 -3.608228  0.493570  0.834897 -0.736586 -0.511727  0.300032  0.268416 -0.003912 -1.897733\n",
       "15532 -0.829950 -5.472259  0.767773  1.256323 -1.169646 -0.766705  0.599068  0.640204 -0.139532 -2.900293\n",
       "15533 -0.413084 -2.943960  0.395489  0.673431 -0.611806 -0.418037  0.255029  0.220355 -0.027398 -1.546463\n",
       "15534 -0.516037 -3.547419  0.489357  0.821150 -0.734665 -0.494830  0.331894  0.339207 -0.052377 -1.875385\n",
       "15535 -0.625176 -4.557203  0.617185  1.038777 -0.973585 -0.673780  0.357951  0.271927 -0.035647 -2.341020\n",
       "15536 -0.397998 -3.077062  0.406371  0.710652 -0.630873 -0.438476  0.190518  0.152232  0.033688 -1.609167\n",
       "15537 -0.510961 -3.822957  0.513321  0.872379 -0.776462 -0.546853  0.266934  0.209930  0.005666 -2.007162\n",
       "15538 -0.536229 -3.898760  0.545828  0.876768 -0.788945 -0.542648  0.298022  0.250636 -0.009522 -2.061781\n",
       "15539 -0.227744 -1.676550  0.231145  0.376842 -0.343237 -0.270829  0.106379  0.043922  0.011602 -0.909334\n",
       "15540 -0.232933 -1.746682  0.240709  0.405596 -0.361880 -0.246306  0.122299  0.100951  0.027447 -0.916502\n",
       "15541 -0.344724 -2.588897  0.331082  0.577269 -0.535603 -0.364064  0.170417  0.123741  0.011127 -1.359642\n",
       "15542 -0.399828 -3.093929  0.409807  0.715858 -0.651404 -0.440069  0.211190  0.164786  0.027130 -1.613396\n",
       "15543 -0.370390 -2.965132  0.355251  0.680166 -0.620938 -0.409010  0.216669  0.166729 -0.008639 -1.533277\n",
       "15544 -0.618749 -4.221843  0.582548  0.988067 -0.896611 -0.604990  0.439719  0.433039 -0.101557 -2.223451\n",
       "15545 -0.433234 -2.942448  0.427695  0.675083 -0.588773 -0.424582  0.258375  0.242338 -0.018514 -1.553245\n",
       "15546 -0.779608 -5.144643  0.743109  1.169439 -1.086639 -0.693669  0.499396  0.578617 -0.093583 -2.782449\n",
       "15547 -0.448967 -3.533967  0.490182  0.780928 -0.723788 -0.481973  0.267907  0.174506  0.005387 -1.858694\n",
       "15548 -0.370749 -2.778323  0.366431  0.634354 -0.549034 -0.420759  0.144926  0.153134  0.051254 -1.467969\n",
       "15549 -0.303933 -2.377281  0.308730  0.548300 -0.505259 -0.342584  0.146503  0.114021  0.004607 -1.241989\n",
       "15550 -0.538377 -3.786501  0.521268  0.869018 -0.792648 -0.535540  0.309855  0.279043 -0.008596 -1.983726\n",
       "15551 -0.728070 -4.786909  0.709241  1.079776 -1.041520 -0.624182  0.468412  0.576342 -0.094351 -2.597794\n",
       "15552 -0.638375 -4.718708  0.595535  1.062493 -1.013614 -0.639287  0.373317  0.326474 -0.054040 -2.386904\n",
       "15553 -0.084306 -0.483030  0.081145  0.122370 -0.106718 -0.094662  0.016869  0.008848 -0.013733 -0.252665\n",
       "15554 -0.520137 -3.839162  0.504813  0.871133 -0.795498 -0.540970  0.285390  0.214421  0.002512 -2.000823\n",
       "15555 -0.538741 -3.695529  0.507789  0.854834 -0.763423 -0.527923  0.306220  0.261557 -0.026206 -1.944761\n",
       "15556 -0.330418 -2.507166  0.317799  0.562821 -0.527916 -0.346261  0.171446  0.134556  0.015900 -1.288726\n",
       "15557 -0.406707 -3.130359  0.408715  0.730893 -0.650582 -0.451120  0.206399  0.156598  0.023920 -1.678028\n",
       "15558 -0.611157 -4.502643  0.589592  1.049622 -0.944142 -0.658677  0.333422  0.268340 -0.021187 -2.306119\n",
       "15559 -0.583246 -4.177144  0.571441  0.976610 -0.868072 -0.596289  0.357659  0.338395 -0.038058 -2.198475\n",
       "15560 -0.537869 -3.884601  0.535041  0.886434 -0.804673 -0.551152  0.312411  0.295345 -0.021581 -2.019219\n",
       "\n",
       "[15561 rows x 10 columns]"
      ]
     },
     "execution_count": 149,
     "metadata": {},
     "output_type": "execute_result"
    }
   ],
   "source": [
    "w2v_feature_array = averaged_word_vectorizer(corpus=tokenized_corpus, model=w2v_model,\n",
    "                                             num_features=feature_size)\n",
    "pd.DataFrame(w2v_feature_array)"
   ]
  },
  {
   "cell_type": "code",
   "execution_count": 152,
   "metadata": {},
   "outputs": [],
   "source": [
    "x_Btrain, x_Btest, y_Btrain, y_Btest = train_test_split(w2v_feature_array, y_B, test_size=.3)"
   ]
  },
  {
   "cell_type": "code",
   "execution_count": 153,
   "metadata": {},
   "outputs": [
    {
     "data": {
      "text/plain": [
       "0.60976654529877916"
      ]
     },
     "execution_count": 153,
     "metadata": {},
     "output_type": "execute_result"
    }
   ],
   "source": [
    "classifier = LogisticRegression()\n",
    "\n",
    "classifier.fit(x_Btrain, y_Btrain)\n",
    "\n",
    "classifier.score(x_Btest, y_Btest)"
   ]
  },
  {
   "cell_type": "markdown",
   "metadata": {},
   "source": [
    "5) Use TF-IDF weighting instead of word counts."
   ]
  },
  {
   "cell_type": "code",
   "execution_count": 174,
   "metadata": {},
   "outputs": [
    {
     "name": "stderr",
     "output_type": "stream",
     "text": [
      "C:\\ProgramData\\Anaconda3\\lib\\site-packages\\sklearn\\model_selection\\_split.py:2026: FutureWarning: From version 0.21, test_size will always complement train_size unless both are specified.\n",
      "  FutureWarning)\n"
     ]
    }
   ],
   "source": [
    "from sklearn.model_selection import train_test_split\n",
    "_, itest = train_test_split(range(critics.shape[0]), train_size=0.7)\n",
    "mask = np.zeros(critics.shape[0], dtype=np.bool)\n",
    "mask[itest] = True"
   ]
  },
  {
   "cell_type": "code",
   "execution_count": 172,
   "metadata": {},
   "outputs": [],
   "source": [
    "# http://scikit-learn.org/dev/modules/feature_extraction.html#text-feature-extraction\n",
    "# http://scikit-learn.org/dev/modules/classes.html#text-feature-extraction-ref\n",
    "from sklearn.feature_extraction.text import TfidfVectorizer\n",
    "tfidfvectorizer = TfidfVectorizer(min_df=1, stop_words='english')\n",
    "Xtfidf=tfidfvectorizer.fit_transform(critics.quote)\n",
    "X = X.tocsc()  # some versions of sklearn return COO format\n",
    "y = (critics.fresh == 'fresh').values.astype(np.int)"
   ]
  },
  {
   "cell_type": "code",
   "execution_count": 173,
   "metadata": {},
   "outputs": [
    {
     "name": "stdout",
     "output_type": "stream",
     "text": [
      "Accuracy on training data: 0.867209\n",
      "Accuracy on test data:     0.730903\n"
     ]
    }
   ],
   "source": [
    "xtrain=X[mask]\n",
    "ytrain=y[mask]\n",
    "xtest=X[~mask]\n",
    "ytest=y[~mask]\n",
    "\n",
    "clf = MultinomialNB(alpha=best_alpha).fit(xtrain, ytrain)\n",
    "\n",
    "#your turn. Print the accuracy on the test and training dataset\n",
    "training_accuracy = clf.score(xtrain, ytrain)\n",
    "test_accuracy = clf.score(xtest, ytest)\n",
    "\n",
    "print(\"Accuracy on training data: {:2f}\".format(training_accuracy))\n",
    "print(\"Accuracy on test data:     {:2f}\".format(test_accuracy))"
   ]
  },
  {
   "cell_type": "code",
   "execution_count": null,
   "metadata": {},
   "outputs": [],
   "source": []
  }
 ],
 "metadata": {
  "kernelspec": {
   "display_name": "Python 3",
   "language": "python",
   "name": "python3"
  },
  "language_info": {
   "codemirror_mode": {
    "name": "ipython",
    "version": 3
   },
   "file_extension": ".py",
   "mimetype": "text/x-python",
   "name": "python",
   "nbconvert_exporter": "python",
   "pygments_lexer": "ipython3",
   "version": "3.6.3"
  }
 },
 "nbformat": 4,
 "nbformat_minor": 2
}
